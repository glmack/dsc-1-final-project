{
 "cells": [
  {
   "cell_type": "markdown",
   "metadata": {},
   "source": [
    "## Importing Data & Exploration"
   ]
  },
  {
   "cell_type": "code",
   "execution_count": 61,
   "metadata": {},
   "outputs": [],
   "source": [
    "# Imports should be grouped in the following order:\n",
    "import pandas as pd\n",
    "import numpy as np\n",
    "import matplotlib.pyplot as plt\n",
    "import seaborn as sns\n",
    "import statsmodels.api as sm\n",
    "\n",
    "from sklearn.model_selection import train_test_split, cross_val_score\n",
    "from sklearn.linear_model import LinearRegression\n",
    "from sklearn.metrics import r2_score, mean_squared_error, mean_absolute_error\n",
    "from sklearn.feature_selection import RFE\n",
    "from statsmodels.formula.api import ols"
   ]
  },
  {
   "cell_type": "code",
   "execution_count": 62,
   "metadata": {},
   "outputs": [],
   "source": [
    "%matplotlib inline"
   ]
  },
  {
   "cell_type": "code",
   "execution_count": 63,
   "metadata": {},
   "outputs": [],
   "source": [
    "np.random.seed(3)"
   ]
  },
  {
   "cell_type": "code",
   "execution_count": 64,
   "metadata": {},
   "outputs": [
    {
     "data": {
      "text/html": [
       "<div>\n",
       "<style scoped>\n",
       "    .dataframe tbody tr th:only-of-type {\n",
       "        vertical-align: middle;\n",
       "    }\n",
       "\n",
       "    .dataframe tbody tr th {\n",
       "        vertical-align: top;\n",
       "    }\n",
       "\n",
       "    .dataframe thead th {\n",
       "        text-align: right;\n",
       "    }\n",
       "</style>\n",
       "<table border=\"1\" class=\"dataframe\">\n",
       "  <thead>\n",
       "    <tr style=\"text-align: right;\">\n",
       "      <th></th>\n",
       "      <th>id</th>\n",
       "      <th>date</th>\n",
       "      <th>price</th>\n",
       "      <th>bedrooms</th>\n",
       "      <th>bathrooms</th>\n",
       "      <th>sqft_living</th>\n",
       "      <th>sqft_lot</th>\n",
       "      <th>floors</th>\n",
       "      <th>waterfront</th>\n",
       "      <th>view</th>\n",
       "      <th>...</th>\n",
       "      <th>grade</th>\n",
       "      <th>sqft_above</th>\n",
       "      <th>sqft_basement</th>\n",
       "      <th>yr_built</th>\n",
       "      <th>yr_renovated</th>\n",
       "      <th>zipcode</th>\n",
       "      <th>lat</th>\n",
       "      <th>long</th>\n",
       "      <th>sqft_living15</th>\n",
       "      <th>sqft_lot15</th>\n",
       "    </tr>\n",
       "  </thead>\n",
       "  <tbody>\n",
       "    <tr>\n",
       "      <th>0</th>\n",
       "      <td>7129300520</td>\n",
       "      <td>10/13/2014</td>\n",
       "      <td>221900.0</td>\n",
       "      <td>3</td>\n",
       "      <td>1.00</td>\n",
       "      <td>1180</td>\n",
       "      <td>5650</td>\n",
       "      <td>1.0</td>\n",
       "      <td>NaN</td>\n",
       "      <td>0.0</td>\n",
       "      <td>...</td>\n",
       "      <td>7</td>\n",
       "      <td>1180</td>\n",
       "      <td>0.0</td>\n",
       "      <td>1955</td>\n",
       "      <td>0.0</td>\n",
       "      <td>98178</td>\n",
       "      <td>47.5112</td>\n",
       "      <td>-122.257</td>\n",
       "      <td>1340</td>\n",
       "      <td>5650</td>\n",
       "    </tr>\n",
       "    <tr>\n",
       "      <th>1</th>\n",
       "      <td>6414100192</td>\n",
       "      <td>12/9/2014</td>\n",
       "      <td>538000.0</td>\n",
       "      <td>3</td>\n",
       "      <td>2.25</td>\n",
       "      <td>2570</td>\n",
       "      <td>7242</td>\n",
       "      <td>2.0</td>\n",
       "      <td>0.0</td>\n",
       "      <td>0.0</td>\n",
       "      <td>...</td>\n",
       "      <td>7</td>\n",
       "      <td>2170</td>\n",
       "      <td>400.0</td>\n",
       "      <td>1951</td>\n",
       "      <td>1991.0</td>\n",
       "      <td>98125</td>\n",
       "      <td>47.7210</td>\n",
       "      <td>-122.319</td>\n",
       "      <td>1690</td>\n",
       "      <td>7639</td>\n",
       "    </tr>\n",
       "    <tr>\n",
       "      <th>2</th>\n",
       "      <td>5631500400</td>\n",
       "      <td>2/25/2015</td>\n",
       "      <td>180000.0</td>\n",
       "      <td>2</td>\n",
       "      <td>1.00</td>\n",
       "      <td>770</td>\n",
       "      <td>10000</td>\n",
       "      <td>1.0</td>\n",
       "      <td>0.0</td>\n",
       "      <td>0.0</td>\n",
       "      <td>...</td>\n",
       "      <td>6</td>\n",
       "      <td>770</td>\n",
       "      <td>0.0</td>\n",
       "      <td>1933</td>\n",
       "      <td>NaN</td>\n",
       "      <td>98028</td>\n",
       "      <td>47.7379</td>\n",
       "      <td>-122.233</td>\n",
       "      <td>2720</td>\n",
       "      <td>8062</td>\n",
       "    </tr>\n",
       "    <tr>\n",
       "      <th>3</th>\n",
       "      <td>2487200875</td>\n",
       "      <td>12/9/2014</td>\n",
       "      <td>604000.0</td>\n",
       "      <td>4</td>\n",
       "      <td>3.00</td>\n",
       "      <td>1960</td>\n",
       "      <td>5000</td>\n",
       "      <td>1.0</td>\n",
       "      <td>0.0</td>\n",
       "      <td>0.0</td>\n",
       "      <td>...</td>\n",
       "      <td>7</td>\n",
       "      <td>1050</td>\n",
       "      <td>910.0</td>\n",
       "      <td>1965</td>\n",
       "      <td>0.0</td>\n",
       "      <td>98136</td>\n",
       "      <td>47.5208</td>\n",
       "      <td>-122.393</td>\n",
       "      <td>1360</td>\n",
       "      <td>5000</td>\n",
       "    </tr>\n",
       "    <tr>\n",
       "      <th>4</th>\n",
       "      <td>1954400510</td>\n",
       "      <td>2/18/2015</td>\n",
       "      <td>510000.0</td>\n",
       "      <td>3</td>\n",
       "      <td>2.00</td>\n",
       "      <td>1680</td>\n",
       "      <td>8080</td>\n",
       "      <td>1.0</td>\n",
       "      <td>0.0</td>\n",
       "      <td>0.0</td>\n",
       "      <td>...</td>\n",
       "      <td>8</td>\n",
       "      <td>1680</td>\n",
       "      <td>0.0</td>\n",
       "      <td>1987</td>\n",
       "      <td>0.0</td>\n",
       "      <td>98074</td>\n",
       "      <td>47.6168</td>\n",
       "      <td>-122.045</td>\n",
       "      <td>1800</td>\n",
       "      <td>7503</td>\n",
       "    </tr>\n",
       "  </tbody>\n",
       "</table>\n",
       "<p>5 rows × 21 columns</p>\n",
       "</div>"
      ],
      "text/plain": [
       "           id        date     price  bedrooms  bathrooms  sqft_living  \\\n",
       "0  7129300520  10/13/2014  221900.0         3       1.00         1180   \n",
       "1  6414100192   12/9/2014  538000.0         3       2.25         2570   \n",
       "2  5631500400   2/25/2015  180000.0         2       1.00          770   \n",
       "3  2487200875   12/9/2014  604000.0         4       3.00         1960   \n",
       "4  1954400510   2/18/2015  510000.0         3       2.00         1680   \n",
       "\n",
       "   sqft_lot  floors  waterfront  view     ...      grade  sqft_above  \\\n",
       "0      5650     1.0         NaN   0.0     ...          7        1180   \n",
       "1      7242     2.0         0.0   0.0     ...          7        2170   \n",
       "2     10000     1.0         0.0   0.0     ...          6         770   \n",
       "3      5000     1.0         0.0   0.0     ...          7        1050   \n",
       "4      8080     1.0         0.0   0.0     ...          8        1680   \n",
       "\n",
       "   sqft_basement yr_built  yr_renovated  zipcode      lat     long  \\\n",
       "0            0.0     1955           0.0    98178  47.5112 -122.257   \n",
       "1          400.0     1951        1991.0    98125  47.7210 -122.319   \n",
       "2            0.0     1933           NaN    98028  47.7379 -122.233   \n",
       "3          910.0     1965           0.0    98136  47.5208 -122.393   \n",
       "4            0.0     1987           0.0    98074  47.6168 -122.045   \n",
       "\n",
       "   sqft_living15  sqft_lot15  \n",
       "0           1340        5650  \n",
       "1           1690        7639  \n",
       "2           2720        8062  \n",
       "3           1360        5000  \n",
       "4           1800        7503  \n",
       "\n",
       "[5 rows x 21 columns]"
      ]
     },
     "execution_count": 64,
     "metadata": {},
     "output_type": "execute_result"
    }
   ],
   "source": [
    "kc_housing = pd.read_csv('kc_house_data.csv')\n",
    "kc_housing.head()"
   ]
  },
  {
   "cell_type": "code",
   "execution_count": 65,
   "metadata": {},
   "outputs": [
    {
     "name": "stdout",
     "output_type": "stream",
     "text": [
      "<class 'pandas.core.frame.DataFrame'>\n",
      "RangeIndex: 21597 entries, 0 to 21596\n",
      "Data columns (total 21 columns):\n",
      "id               21597 non-null int64\n",
      "date             21597 non-null object\n",
      "price            21597 non-null float64\n",
      "bedrooms         21597 non-null int64\n",
      "bathrooms        21597 non-null float64\n",
      "sqft_living      21597 non-null int64\n",
      "sqft_lot         21597 non-null int64\n",
      "floors           21597 non-null float64\n",
      "waterfront       19221 non-null float64\n",
      "view             21534 non-null float64\n",
      "condition        21597 non-null int64\n",
      "grade            21597 non-null int64\n",
      "sqft_above       21597 non-null int64\n",
      "sqft_basement    21597 non-null object\n",
      "yr_built         21597 non-null int64\n",
      "yr_renovated     17755 non-null float64\n",
      "zipcode          21597 non-null int64\n",
      "lat              21597 non-null float64\n",
      "long             21597 non-null float64\n",
      "sqft_living15    21597 non-null int64\n",
      "sqft_lot15       21597 non-null int64\n",
      "dtypes: float64(8), int64(11), object(2)\n",
      "memory usage: 3.5+ MB\n"
     ]
    },
    {
     "data": {
      "text/plain": [
       "(id                  0\n",
       " date                0\n",
       " price               0\n",
       " bedrooms            0\n",
       " bathrooms           0\n",
       " sqft_living         0\n",
       " sqft_lot            0\n",
       " floors              0\n",
       " waterfront       2376\n",
       " view               63\n",
       " condition           0\n",
       " grade               0\n",
       " sqft_above          0\n",
       " sqft_basement       0\n",
       " yr_built            0\n",
       " yr_renovated     3842\n",
       " zipcode             0\n",
       " lat                 0\n",
       " long                0\n",
       " sqft_living15       0\n",
       " sqft_lot15          0\n",
       " dtype: int64, None)"
      ]
     },
     "execution_count": 65,
     "metadata": {},
     "output_type": "execute_result"
    }
   ],
   "source": [
    "kc_housing.isna().sum(), kc_housing.info()"
   ]
  },
  {
   "cell_type": "code",
   "execution_count": 66,
   "metadata": {},
   "outputs": [
    {
     "data": {
      "image/png": "[encoded data removed]",
      "text/plain": [
       "<Figure size 864x864 with 20 Axes>"
      ]
     },
     "metadata": {},
     "output_type": "display_data"
    }
   ],
   "source": [
    "_ = kc_housing.hist(figsize=(12,12))"
   ]
  },
  {
   "cell_type": "code",
   "execution_count": 67,
   "metadata": {},
   "outputs": [],
   "source": [
    "potential_cols = ['price','bedrooms','bathrooms','sqft_living','sqft_lot','floors',\n",
    "                     'waterfront', 'view','condition','grade','sqft_above','sqft_basement',\n",
    "                     'sqft_living15','sqft_lot15']\n",
    "    \n",
    "# _ = pd.plotting.scatter_matrix(kc_housing[potential_cols], figsize=(12,12))"
   ]
  },
  {
   "cell_type": "markdown",
   "metadata": {},
   "source": [
    "### Scrubbing our data"
   ]
  },
  {
   "cell_type": "markdown",
   "metadata": {},
   "source": [
    "#### Notes on data cleaning and organizing:\n",
    "Dropping for now:\n",
    "* Id: Does not feel necessary for our exploration and will drop this column\n",
    "* Latitude & Longitude: for location purses, we are going to do some exploring with the ZIP code.\n",
    "* Date: Going to use for some computations, but not do not need the variable on its own."
   ]
  },
  {
   "cell_type": "code",
   "execution_count": 68,
   "metadata": {},
   "outputs": [],
   "source": [
    "kc_measures = kc_housing.drop(['id','date','sqft_above','lat','long'], axis=1).copy()"
   ]
  },
  {
   "cell_type": "markdown",
   "metadata": {},
   "source": [
    "Cleaning NaN values:\n",
    "* Waterfront: data is both incomplete and appears to be very skewed. Since the value is already binary, we are marking all the NaN values negative for the time being to see if it provides any detail.\n",
    "* Yr_renovated: To handle missing values, collapsing into binary for denoting renovation (True), or no value (False)\n",
    "* Sqft_above: With ample other features for our property size, we decided to pass on using the characteristic for the time being. \n",
    "* Yr_built: this value on its own is not as helpful, but will use for some computation, so dropping for now."
   ]
  },
  {
   "cell_type": "code",
   "execution_count": 69,
   "metadata": {},
   "outputs": [],
   "source": [
    "kc_measures['waterfront'] = kc_measures['waterfront'].fillna(0.0)\n",
    "\n",
    "kc_measures['renovated'] = np.where(kc_measures['yr_renovated']>0, 1, 0) \n",
    "kc_measures.drop('yr_renovated', axis=1, inplace=True)\n",
    "\n",
    "kc_measures['view'] = kc_measures['view'].dropna(axis=0)\n",
    "kc_measures['view'] = np.where(kc_measures['view']> 0, 1, 0)"
   ]
  },
  {
   "cell_type": "markdown",
   "metadata": {},
   "source": [
    "Other data errors:\n",
    "* Sqft_basement: In exploring this column, we found that some were marked with a question mark instead of a value. It appears that this column was a computation from sqft_living. Our decision was to test this variable as a binary value equating to having a basement(True), or no basement listed (False)"
   ]
  },
  {
   "cell_type": "code",
   "execution_count": 70,
   "metadata": {},
   "outputs": [],
   "source": [
    "kc_measures['sqft_basement'] = kc_measures['sqft_basement'].str.replace('?', '0.0').astype('float')"
   ]
  },
  {
   "cell_type": "code",
   "execution_count": 71,
   "metadata": {},
   "outputs": [],
   "source": [
    "kc_measures['basement'] = np.where(kc_measures['sqft_basement'] > 0, 1, 0)\n",
    "kc_measures.drop('sqft_basement', axis=1, inplace=True)"
   ]
  },
  {
   "cell_type": "markdown",
   "metadata": {},
   "source": [
    "Potential solutions for ZIP Code:\n",
    "* Creating dummy variables for each individual ZIP code. This may subdivide things too much, but can expirment with it. \n",
    "* Trying a simple binary \"In Seattle\"-> True, \"Not Seattle\"-> False. A slimmer option, but might not provide the subltey of neighborhood variation."
   ]
  },
  {
   "cell_type": "code",
   "execution_count": 72,
   "metadata": {},
   "outputs": [],
   "source": [
    "df_zipcode_dums = pd.get_dummies(kc_measures['zipcode'])\n",
    "kc_measures_wzip = pd.concat([kc_measures, df_zipcode_dums], axis=1)"
   ]
  },
  {
   "cell_type": "code",
   "execution_count": 73,
   "metadata": {},
   "outputs": [],
   "source": [
    "# seattle_zips = [98101, 98102, 98104, 98105, 98108, 98109, 98112, 98113, 98114, 98117, 98103, 98106, 98107,\n",
    "#                 98111, 98115, 98116, 98118, 98119,98121, 98125, 98126, 98132, 98133, 98138, 98139, 98141, \n",
    "#                 98122, 98124, 98127, 98129, 98131, 98134, 98136, 98144, 98145, 98148, 98155, 98160, 98161, \n",
    "#                 98164, 98165, 98168, 98170, 98146, 98154, 98158, 98166, 98174, 98175, 98178, 98190, 98191,\n",
    "#                 98177, 98181, 98185, 98188, 98189, 98194, 98195, 98199,98198]"
   ]
  },
  {
   "cell_type": "code",
   "execution_count": 74,
   "metadata": {},
   "outputs": [],
   "source": [
    "# kc_measures['in_seattle'] = kc_measures['zipcode'].map(lambda x: 1 if x in seattle_zips else 0)\n",
    "# kc_measures.drop('zipcode', axis=1, inplace=True)"
   ]
  },
  {
   "cell_type": "markdown",
   "metadata": {},
   "source": [
    "Potential uses of Year Built:\n",
    "* Creating scalar values for column values for \"newness\" of yr_home_built (abs val from 1899 ref yr) from yr_built"
   ]
  },
  {
   "cell_type": "code",
   "execution_count": 75,
   "metadata": {},
   "outputs": [],
   "source": [
    "kc_measures['yr_built_scalar_1899refyr'] = kc_measures['yr_built'].apply(lambda x: abs(1899-x))\n",
    "kc_measures.drop('yr_built', axis=1, inplace=True)"
   ]
  },
  {
   "cell_type": "markdown",
   "metadata": {},
   "source": [
    "Further notes:\n",
    "* Bedrooms: The data appears complete, though has some heavy outliers on the higher end (one with 33 bedrooms!) which may need to be min-max standardized\n",
    "* Bathrooms: Comporable to bedrooms, may need to be adjusted for outliers, but complete.\n",
    "* Yr_built: To make this column more useful, we are going to convert it into its age in years (subtract current year)\n",
    "* Yr_renovated: data is fairly incomplete, so might want to skip\n",
    "* Sqft Living 15: Based on the graphs, it looks like we might find some helpful relationship\n",
    "* Maybe yard size? Sqft_living - sqft_lot"
   ]
  },
  {
   "cell_type": "code",
   "execution_count": 76,
   "metadata": {
    "scrolled": true
   },
   "outputs": [
    {
     "data": {
      "text/plain": [
       "Index(['price', 'bedrooms', 'bathrooms', 'sqft_living', 'sqft_lot', 'floors',\n",
       "       'waterfront', 'view', 'condition', 'grade', 'zipcode', 'sqft_living15',\n",
       "       'sqft_lot15', 'renovated', 'basement', 'yr_built_scalar_1899refyr'],\n",
       "      dtype='object')"
      ]
     },
     "execution_count": 76,
     "metadata": {},
     "output_type": "execute_result"
    }
   ],
   "source": [
    "kc_measures.columns\n",
    "# Change name - yr_renovated_new',  'waterfront_new',  'view_new',"
   ]
  },
  {
   "cell_type": "code",
   "execution_count": 77,
   "metadata": {},
   "outputs": [],
   "source": [
    "# Test for location close to expensive areas\n",
    "# kc_measures['loc'] = (kc_measures['lat'] + 90) * (180 + kc_measures['long'])\n",
    "# kc_measures.drop(['lat','long'], axis=1, inplace=True)\n",
    "# # location = (lat + 90) * 180 + long"
   ]
  },
  {
   "cell_type": "code",
   "execution_count": 18,
   "metadata": {},
   "outputs": [],
   "source": [
    "# downtown = (47.60806 + 90) * (180 + -122.33611)\n",
    "# madrona = (47.613274 + 90) * (180 + -122.28887)\n",
    "# slu = (47.62343 + 90) * (180 + -122.33435)\n",
    "# eastlake = (47.64708 + 90) * ( 180 + -122.32477)\n",
    "# queen_anne = (47.63692 + 90) * (180 + -122.35579)\n",
    "# magnolia = (47.65056 + 90) * (180 + -122.40083)\n",
    "# first_hill = (47.60864 + 90) *(180 + -122.32679)\n",
    "\n",
    "# # #location = (lat + 90) * 180 + long\n",
    "\n",
    "# kc_expensive = kc_housing.drop(['id','date','sqft_above'], axis=1).copy()\n",
    "# kc_expensive['loc'] = (kc_measures['lat'] + 90) * (180 + kc_measures['long'])\n",
    "# kc_expensive['loc_downtown'] = kc_expensive['loc'].apply(lambda x: x - downtown)\n",
    "# kc_expensive['loc_madrona'] = kc_expensive['loc'].apply(lambda x: x - madrona)\n",
    "# kc_expensive['loc_slu'] = kc_expensive['loc'].apply(lambda x: x - slu)\n",
    "# kc_expensive['loc_eastlake'] = kc_expensive['loc'].apply(lambda x: x - eastlake)\n",
    "# kc_expensive['loc_queen_anne'] = kc_expensive['loc'].apply(lambda x: x - queen_anne)\n",
    "# kc_expensive['loc_magnolia'] = kc_expensive['loc'].apply(lambda x: x - magnolia)\n",
    "# kc_expensive['loc_first_hill'] = kc_expensive['loc'].apply(lambda x: x - first_hill)"
   ]
  },
  {
   "cell_type": "markdown",
   "metadata": {},
   "source": [
    "### Potential modelling based around categories of information:\n",
    "\n",
    "* Size - sqft_living, sqft_lot, sqft_above, basement, sqft_lot15, sqft_living15, sqft\n",
    "* Structure - bedrooms, bathrooms, floors, waterfront, view, condition, grade, renovated, basement\n",
    "* Location - zipcode"
   ]
  },
  {
   "cell_type": "code",
   "execution_count": 43,
   "metadata": {},
   "outputs": [],
   "source": [
    "def lin_regress_summary(kc):\n",
    "    \"\"\" define input X and y, fit OLS model, output model eval metrics\"\"\"\n",
    "    \n",
    "    X = kc.drop(['price'], axis=1)\n",
    "    y = kc.price\n",
    "    len_X_columns = len(X.columns)\n",
    "    print(f\"{len_X_columns} Features included in model: {X.columns.sort_values()}\")\n",
    "\n",
    "    # Create train-test split\n",
    "    X_train, X_test, y_train, y_test = train_test_split(X, y, test_size=0.20)\n",
    "\n",
    "    # Create model\n",
    "    model = LinearRegression()\n",
    "    model.fit(X_train, y_train)\n",
    "\n",
    "    # Calculate our y hat (how our model performs against the test data held off)\n",
    "    y_hat_test = model.predict(X_test)\n",
    "    y_hat_test\n",
    "\n",
    "    # See the R Squared score for our test data\n",
    "    r2 = r2_score(y_test, y_hat_test)\n",
    "    print(f\"the r2 score is: {r2}\")\n",
    "\n",
    "    # See our Squared Mean Error score for data\n",
    "    test_mse = mean_squared_error(y_test, y_hat_test)\n",
    "    print(f\"the test MSE is: {test_mse}\")\n",
    "\n",
    "    test_mse = np.sqrt(test_mse)\n",
    "    print(f\"the test RMSE is: {test_mse}\")\n",
    "    \n",
    "    test_mae = mean_absolute_error(y_test, y_hat_test)\n",
    "    print(f\"the test MAE is: {test_mae}\")\n",
    "    \n",
    "    \n",
    "    # TODO (Lee) - turn the statsmodel output into an optional argument?\n",
    "    #model = sm.OLS(y, X)\n",
    "    #results = model.fit()\n",
    "    #print(results.summary())"
   ]
  },
  {
   "cell_type": "code",
   "execution_count": 45,
   "metadata": {},
   "outputs": [
    {
     "name": "stdout",
     "output_type": "stream",
     "text": [
      "15 Features included in model: Index(['basement', 'bathrooms', 'bedrooms', 'condition', 'floors', 'grade',\n",
      "       'renovated', 'sqft_living', 'sqft_living15', 'sqft_lot', 'sqft_lot15',\n",
      "       'view', 'waterfront', 'yr_built_scalar_1899refyr', 'zipcode'],\n",
      "      dtype='object')\n",
      "the r2 score is: 0.6440346451459837\n",
      "the test MSE is: 46961422824.55628\n",
      "the test RMSE is: 216705.84400185492\n",
      "the test MAE is: 141319.25161619936\n"
     ]
    }
   ],
   "source": [
    "# TODO (Lee) - print in output: name/attributes of y column inputted to model\n",
    "# TODO (Lee) - debug the varying outputs if run this model repeatedly\n",
    "lin_regress_summary(kc_measures)"
   ]
  },
  {
   "cell_type": "code",
   "execution_count": 46,
   "metadata": {},
   "outputs": [
    {
     "ename": "TypeError",
     "evalue": "'<' not supported between instances of 'int' and 'str'",
     "output_type": "error",
     "traceback": [
      "\u001b[0;31m---------------------------------------------------------------------------\u001b[0m",
      "\u001b[0;31mTypeError\u001b[0m                                 Traceback (most recent call last)",
      "\u001b[0;32m<ipython-input-46-87ad889fcf69>\u001b[0m in \u001b[0;36m<module>\u001b[0;34m()\u001b[0m\n\u001b[0;32m----> 1\u001b[0;31m \u001b[0mlin_regress_summary\u001b[0m\u001b[0;34m(\u001b[0m\u001b[0mkc_measures_wzip\u001b[0m\u001b[0;34m)\u001b[0m\u001b[0;34m\u001b[0m\u001b[0m\n\u001b[0m",
      "\u001b[0;32m<ipython-input-43-43dcd7fba87c>\u001b[0m in \u001b[0;36mlin_regress_summary\u001b[0;34m(kc)\u001b[0m\n\u001b[1;32m      5\u001b[0m     \u001b[0my\u001b[0m \u001b[0;34m=\u001b[0m \u001b[0mkc\u001b[0m\u001b[0;34m.\u001b[0m\u001b[0mprice\u001b[0m\u001b[0;34m\u001b[0m\u001b[0m\n\u001b[1;32m      6\u001b[0m     \u001b[0mlen_X_columns\u001b[0m \u001b[0;34m=\u001b[0m \u001b[0mlen\u001b[0m\u001b[0;34m(\u001b[0m\u001b[0mX\u001b[0m\u001b[0;34m.\u001b[0m\u001b[0mcolumns\u001b[0m\u001b[0;34m)\u001b[0m\u001b[0;34m\u001b[0m\u001b[0m\n\u001b[0;32m----> 7\u001b[0;31m     \u001b[0mprint\u001b[0m\u001b[0;34m(\u001b[0m\u001b[0;34mf\"{len_X_columns} Features included in model: {X.columns.sort_values()}\"\u001b[0m\u001b[0;34m)\u001b[0m\u001b[0;34m\u001b[0m\u001b[0m\n\u001b[0m\u001b[1;32m      8\u001b[0m \u001b[0;34m\u001b[0m\u001b[0m\n\u001b[1;32m      9\u001b[0m     \u001b[0;31m# Create train-test split\u001b[0m\u001b[0;34m\u001b[0m\u001b[0;34m\u001b[0m\u001b[0m\n",
      "\u001b[0;32m/anaconda3/lib/python3.6/site-packages/pandas/core/indexes/base.py\u001b[0m in \u001b[0;36msort_values\u001b[0;34m(self, return_indexer, ascending)\u001b[0m\n\u001b[1;32m   2534\u001b[0m         \u001b[0;34m(\u001b[0m\u001b[0mInt64Index\u001b[0m\u001b[0;34m(\u001b[0m\u001b[0;34m[\u001b[0m\u001b[0;36m1000\u001b[0m\u001b[0;34m,\u001b[0m \u001b[0;36m100\u001b[0m\u001b[0;34m,\u001b[0m \u001b[0;36m10\u001b[0m\u001b[0;34m,\u001b[0m \u001b[0;36m1\u001b[0m\u001b[0;34m]\u001b[0m\u001b[0;34m,\u001b[0m \u001b[0mdtype\u001b[0m\u001b[0;34m=\u001b[0m\u001b[0;34m'int64'\u001b[0m\u001b[0;34m)\u001b[0m\u001b[0;34m,\u001b[0m \u001b[0marray\u001b[0m\u001b[0;34m(\u001b[0m\u001b[0;34m[\u001b[0m\u001b[0;36m3\u001b[0m\u001b[0;34m,\u001b[0m \u001b[0;36m1\u001b[0m\u001b[0;34m,\u001b[0m \u001b[0;36m0\u001b[0m\u001b[0;34m,\u001b[0m \u001b[0;36m2\u001b[0m\u001b[0;34m]\u001b[0m\u001b[0;34m)\u001b[0m\u001b[0;34m)\u001b[0m\u001b[0;34m\u001b[0m\u001b[0m\n\u001b[1;32m   2535\u001b[0m         \"\"\"\n\u001b[0;32m-> 2536\u001b[0;31m         \u001b[0m_as\u001b[0m \u001b[0;34m=\u001b[0m \u001b[0mself\u001b[0m\u001b[0;34m.\u001b[0m\u001b[0margsort\u001b[0m\u001b[0;34m(\u001b[0m\u001b[0;34m)\u001b[0m\u001b[0;34m\u001b[0m\u001b[0m\n\u001b[0m\u001b[1;32m   2537\u001b[0m         \u001b[0;32mif\u001b[0m \u001b[0;32mnot\u001b[0m \u001b[0mascending\u001b[0m\u001b[0;34m:\u001b[0m\u001b[0;34m\u001b[0m\u001b[0m\n\u001b[1;32m   2538\u001b[0m             \u001b[0m_as\u001b[0m \u001b[0;34m=\u001b[0m \u001b[0m_as\u001b[0m\u001b[0;34m[\u001b[0m\u001b[0;34m:\u001b[0m\u001b[0;34m:\u001b[0m\u001b[0;34m-\u001b[0m\u001b[0;36m1\u001b[0m\u001b[0;34m]\u001b[0m\u001b[0;34m\u001b[0m\u001b[0m\n",
      "\u001b[0;32m/anaconda3/lib/python3.6/site-packages/pandas/core/indexes/base.py\u001b[0m in \u001b[0;36margsort\u001b[0;34m(self, *args, **kwargs)\u001b[0m\n\u001b[1;32m   2666\u001b[0m         \u001b[0;32mif\u001b[0m \u001b[0mresult\u001b[0m \u001b[0;32mis\u001b[0m \u001b[0;32mNone\u001b[0m\u001b[0;34m:\u001b[0m\u001b[0;34m\u001b[0m\u001b[0m\n\u001b[1;32m   2667\u001b[0m             \u001b[0mresult\u001b[0m \u001b[0;34m=\u001b[0m \u001b[0mnp\u001b[0m\u001b[0;34m.\u001b[0m\u001b[0marray\u001b[0m\u001b[0;34m(\u001b[0m\u001b[0mself\u001b[0m\u001b[0;34m)\u001b[0m\u001b[0;34m\u001b[0m\u001b[0m\n\u001b[0;32m-> 2668\u001b[0;31m         \u001b[0;32mreturn\u001b[0m \u001b[0mresult\u001b[0m\u001b[0;34m.\u001b[0m\u001b[0margsort\u001b[0m\u001b[0;34m(\u001b[0m\u001b[0;34m*\u001b[0m\u001b[0margs\u001b[0m\u001b[0;34m,\u001b[0m \u001b[0;34m**\u001b[0m\u001b[0mkwargs\u001b[0m\u001b[0;34m)\u001b[0m\u001b[0;34m\u001b[0m\u001b[0m\n\u001b[0m\u001b[1;32m   2669\u001b[0m \u001b[0;34m\u001b[0m\u001b[0m\n\u001b[1;32m   2670\u001b[0m     \u001b[0;32mdef\u001b[0m \u001b[0m__add__\u001b[0m\u001b[0;34m(\u001b[0m\u001b[0mself\u001b[0m\u001b[0;34m,\u001b[0m \u001b[0mother\u001b[0m\u001b[0;34m)\u001b[0m\u001b[0;34m:\u001b[0m\u001b[0;34m\u001b[0m\u001b[0m\n",
      "\u001b[0;31mTypeError\u001b[0m: '<' not supported between instances of 'int' and 'str'"
     ]
    }
   ],
   "source": [
    "lin_regress_summary(kc_measures_wzip)"
   ]
  },
  {
   "cell_type": "code",
   "execution_count": 47,
   "metadata": {},
   "outputs": [],
   "source": [
    "kc_m_update1 = kc_measures[['price', 'bedrooms', 'bathrooms', 'sqft_living',\n",
    "                            'sqft_lot', 'floors','view', 'condition',\n",
    "                            'grade','sqft_living15', 'sqft_lot15']]"
   ]
  },
  {
   "cell_type": "code",
   "execution_count": 48,
   "metadata": {},
   "outputs": [
    {
     "name": "stdout",
     "output_type": "stream",
     "text": [
      "10 Features included in model: Index(['bathrooms', 'bedrooms', 'condition', 'floors', 'grade', 'sqft_living',\n",
      "       'sqft_living15', 'sqft_lot', 'sqft_lot15', 'view'],\n",
      "      dtype='object')\n",
      "the r2 score is: 0.5740765976255187\n",
      "the test MSE is: 60090437342.07504\n",
      "the test RMSE is: 245133.50921910908\n",
      "the test MAE is: 156565.5948793257\n"
     ]
    }
   ],
   "source": [
    "lin_regress_summary(kc_m_update1)"
   ]
  },
  {
   "cell_type": "code",
   "execution_count": 49,
   "metadata": {},
   "outputs": [],
   "source": [
    "kc_m_update2 = kc_measures[['price', 'bedrooms', 'bathrooms', 'sqft_living',\n",
    "                            'sqft_lot', 'view', 'condition', 'grade',\n",
    "                            'zipcode', 'sqft_living15','sqft_lot15', 'renovated',\n",
    "                            'basement', 'yr_built_scalar_1899refyr']]"
   ]
  },
  {
   "cell_type": "code",
   "execution_count": 50,
   "metadata": {},
   "outputs": [
    {
     "name": "stdout",
     "output_type": "stream",
     "text": [
      "13 Features included in model: Index(['basement', 'bathrooms', 'bedrooms', 'condition', 'grade', 'renovated',\n",
      "       'sqft_living', 'sqft_living15', 'sqft_lot', 'sqft_lot15', 'view',\n",
      "       'yr_built_scalar_1899refyr', 'zipcode'],\n",
      "      dtype='object')\n",
      "the r2 score is: 0.622104750713342\n",
      "the test MSE is: 51624817591.88401\n",
      "the test RMSE is: 227210.9539434312\n",
      "the test MAE is: 145410.8270415261\n"
     ]
    }
   ],
   "source": [
    "lin_regress_summary(kc_m_update2)"
   ]
  },
  {
   "cell_type": "code",
   "execution_count": 51,
   "metadata": {},
   "outputs": [],
   "source": [
    "kc_m_update3 = kc_measures[['price', 'bedrooms', 'bathrooms', 'sqft_living',\n",
    "                            'sqft_lot', 'view', 'condition', 'grade', 'zipcode',\n",
    "                            'sqft_living15','sqft_lot15',  'basement', 'yr_built_scalar_1899refyr']]"
   ]
  },
  {
   "cell_type": "code",
   "execution_count": 52,
   "metadata": {},
   "outputs": [
    {
     "name": "stdout",
     "output_type": "stream",
     "text": [
      "12 Features included in model: Index(['basement', 'bathrooms', 'bedrooms', 'condition', 'grade',\n",
      "       'sqft_living', 'sqft_living15', 'sqft_lot', 'sqft_lot15', 'view',\n",
      "       'yr_built_scalar_1899refyr', 'zipcode'],\n",
      "      dtype='object')\n",
      "the r2 score is: 0.6204426808238044\n",
      "the test MSE is: 47182257444.82674\n",
      "the test RMSE is: 217214.77262107827\n",
      "the test MAE is: 145090.96222887773\n"
     ]
    }
   ],
   "source": [
    "lin_regress_summary(kc_m_update3)"
   ]
  },
  {
   "cell_type": "code",
   "execution_count": 53,
   "metadata": {},
   "outputs": [],
   "source": [
    "kc_m_update4 = kc_measures[['price', 'bedrooms', 'bathrooms', 'sqft_living',\n",
    "                            'sqft_lot','view', 'condition', 'grade', 'sqft_living15',\n",
    "                               'sqft_lot15','yr_built_scalar_1899refyr']]"
   ]
  },
  {
   "cell_type": "code",
   "execution_count": 54,
   "metadata": {},
   "outputs": [
    {
     "name": "stdout",
     "output_type": "stream",
     "text": [
      "10 Features included in model: Index(['bathrooms', 'bedrooms', 'condition', 'grade', 'sqft_living',\n",
      "       'sqft_living15', 'sqft_lot', 'sqft_lot15', 'view',\n",
      "       'yr_built_scalar_1899refyr'],\n",
      "      dtype='object')\n",
      "the r2 score is: 0.6151610898934523\n",
      "the test MSE is: 42304338743.38667\n",
      "the test RMSE is: 205680.18558769018\n",
      "the test MAE is: 140663.32479493623\n"
     ]
    }
   ],
   "source": [
    "lin_regress_summary(kc_m_update4)"
   ]
  },
  {
   "cell_type": "code",
   "execution_count": 55,
   "metadata": {},
   "outputs": [],
   "source": [
    "kc_m_update5 = kc_measures[['price', 'bedrooms', 'bathrooms', 'sqft_living',\n",
    "                            'sqft_lot', 'view',  'grade', 'sqft_living15',\n",
    "                               'sqft_lot15', 'yr_built_scalar_1899refyr']]"
   ]
  },
  {
   "cell_type": "code",
   "execution_count": 56,
   "metadata": {},
   "outputs": [
    {
     "name": "stdout",
     "output_type": "stream",
     "text": [
      "9 Features included in model: Index(['bathrooms', 'bedrooms', 'grade', 'sqft_living', 'sqft_living15',\n",
      "       'sqft_lot', 'sqft_lot15', 'view', 'yr_built_scalar_1899refyr'],\n",
      "      dtype='object')\n",
      "the r2 score is: 0.6305222554155452\n",
      "the test MSE is: 51219848779.62687\n",
      "the test RMSE is: 226318.02575055056\n",
      "the test MAE is: 144304.564605054\n"
     ]
    }
   ],
   "source": [
    "lin_regress_summary(kc_m_update5)"
   ]
  },
  {
   "cell_type": "code",
   "execution_count": 57,
   "metadata": {},
   "outputs": [],
   "source": [
    "kc_m_update6 = kc_measures[['price','bedrooms', 'bathrooms', 'sqft_living',\n",
    "                            'condition', 'grade','basement', 'waterfront', 'view']]"
   ]
  },
  {
   "cell_type": "code",
   "execution_count": 58,
   "metadata": {},
   "outputs": [
    {
     "name": "stdout",
     "output_type": "stream",
     "text": [
      "8 Features included in model: Index(['basement', 'bathrooms', 'bedrooms', 'condition', 'grade',\n",
      "       'sqft_living', 'view', 'waterfront'],\n",
      "      dtype='object')\n",
      "the r2 score is: 0.5890843071386629\n",
      "the test MSE is: 47030769623.01371\n",
      "the test RMSE is: 216865.78711962316\n",
      "the test MAE is: 150401.12804319325\n"
     ]
    }
   ],
   "source": [
    "lin_regress_summary(kc_m_update6)"
   ]
  },
  {
   "cell_type": "code",
   "execution_count": 59,
   "metadata": {},
   "outputs": [],
   "source": [
    "kc_use = kc_measures[['price','waterfront', 'view', 'floors',\n",
    "                      'sqft_living', 'grade', 'yr_built_scalar_1899refyr']]\n",
    "kc_m_update7 = pd.concat([kc_use, df_zipcode_dums], axis=1)"
   ]
  },
  {
   "cell_type": "code",
   "execution_count": 60,
   "metadata": {},
   "outputs": [
    {
     "ename": "TypeError",
     "evalue": "'<' not supported between instances of 'int' and 'str'",
     "output_type": "error",
     "traceback": [
      "\u001b[0;31m---------------------------------------------------------------------------\u001b[0m",
      "\u001b[0;31mTypeError\u001b[0m                                 Traceback (most recent call last)",
      "\u001b[0;32m<ipython-input-60-e3e71e31f8da>\u001b[0m in \u001b[0;36m<module>\u001b[0;34m()\u001b[0m\n\u001b[0;32m----> 1\u001b[0;31m \u001b[0mlin_regress_summary\u001b[0m\u001b[0;34m(\u001b[0m\u001b[0mkc_m_update7\u001b[0m\u001b[0;34m)\u001b[0m\u001b[0;34m\u001b[0m\u001b[0m\n\u001b[0m",
      "\u001b[0;32m<ipython-input-43-43dcd7fba87c>\u001b[0m in \u001b[0;36mlin_regress_summary\u001b[0;34m(kc)\u001b[0m\n\u001b[1;32m      5\u001b[0m     \u001b[0my\u001b[0m \u001b[0;34m=\u001b[0m \u001b[0mkc\u001b[0m\u001b[0;34m.\u001b[0m\u001b[0mprice\u001b[0m\u001b[0;34m\u001b[0m\u001b[0m\n\u001b[1;32m      6\u001b[0m     \u001b[0mlen_X_columns\u001b[0m \u001b[0;34m=\u001b[0m \u001b[0mlen\u001b[0m\u001b[0;34m(\u001b[0m\u001b[0mX\u001b[0m\u001b[0;34m.\u001b[0m\u001b[0mcolumns\u001b[0m\u001b[0;34m)\u001b[0m\u001b[0;34m\u001b[0m\u001b[0m\n\u001b[0;32m----> 7\u001b[0;31m     \u001b[0mprint\u001b[0m\u001b[0;34m(\u001b[0m\u001b[0;34mf\"{len_X_columns} Features included in model: {X.columns.sort_values()}\"\u001b[0m\u001b[0;34m)\u001b[0m\u001b[0;34m\u001b[0m\u001b[0m\n\u001b[0m\u001b[1;32m      8\u001b[0m \u001b[0;34m\u001b[0m\u001b[0m\n\u001b[1;32m      9\u001b[0m     \u001b[0;31m# Create train-test split\u001b[0m\u001b[0;34m\u001b[0m\u001b[0;34m\u001b[0m\u001b[0m\n",
      "\u001b[0;32m/anaconda3/lib/python3.6/site-packages/pandas/core/indexes/base.py\u001b[0m in \u001b[0;36msort_values\u001b[0;34m(self, return_indexer, ascending)\u001b[0m\n\u001b[1;32m   2534\u001b[0m         \u001b[0;34m(\u001b[0m\u001b[0mInt64Index\u001b[0m\u001b[0;34m(\u001b[0m\u001b[0;34m[\u001b[0m\u001b[0;36m1000\u001b[0m\u001b[0;34m,\u001b[0m \u001b[0;36m100\u001b[0m\u001b[0;34m,\u001b[0m \u001b[0;36m10\u001b[0m\u001b[0;34m,\u001b[0m \u001b[0;36m1\u001b[0m\u001b[0;34m]\u001b[0m\u001b[0;34m,\u001b[0m \u001b[0mdtype\u001b[0m\u001b[0;34m=\u001b[0m\u001b[0;34m'int64'\u001b[0m\u001b[0;34m)\u001b[0m\u001b[0;34m,\u001b[0m \u001b[0marray\u001b[0m\u001b[0;34m(\u001b[0m\u001b[0;34m[\u001b[0m\u001b[0;36m3\u001b[0m\u001b[0;34m,\u001b[0m \u001b[0;36m1\u001b[0m\u001b[0;34m,\u001b[0m \u001b[0;36m0\u001b[0m\u001b[0;34m,\u001b[0m \u001b[0;36m2\u001b[0m\u001b[0;34m]\u001b[0m\u001b[0;34m)\u001b[0m\u001b[0;34m)\u001b[0m\u001b[0;34m\u001b[0m\u001b[0m\n\u001b[1;32m   2535\u001b[0m         \"\"\"\n\u001b[0;32m-> 2536\u001b[0;31m         \u001b[0m_as\u001b[0m \u001b[0;34m=\u001b[0m \u001b[0mself\u001b[0m\u001b[0;34m.\u001b[0m\u001b[0margsort\u001b[0m\u001b[0;34m(\u001b[0m\u001b[0;34m)\u001b[0m\u001b[0;34m\u001b[0m\u001b[0m\n\u001b[0m\u001b[1;32m   2537\u001b[0m         \u001b[0;32mif\u001b[0m \u001b[0;32mnot\u001b[0m \u001b[0mascending\u001b[0m\u001b[0;34m:\u001b[0m\u001b[0;34m\u001b[0m\u001b[0m\n\u001b[1;32m   2538\u001b[0m             \u001b[0m_as\u001b[0m \u001b[0;34m=\u001b[0m \u001b[0m_as\u001b[0m\u001b[0;34m[\u001b[0m\u001b[0;34m:\u001b[0m\u001b[0;34m:\u001b[0m\u001b[0;34m-\u001b[0m\u001b[0;36m1\u001b[0m\u001b[0;34m]\u001b[0m\u001b[0;34m\u001b[0m\u001b[0m\n",
      "\u001b[0;32m/anaconda3/lib/python3.6/site-packages/pandas/core/indexes/base.py\u001b[0m in \u001b[0;36margsort\u001b[0;34m(self, *args, **kwargs)\u001b[0m\n\u001b[1;32m   2666\u001b[0m         \u001b[0;32mif\u001b[0m \u001b[0mresult\u001b[0m \u001b[0;32mis\u001b[0m \u001b[0;32mNone\u001b[0m\u001b[0;34m:\u001b[0m\u001b[0;34m\u001b[0m\u001b[0m\n\u001b[1;32m   2667\u001b[0m             \u001b[0mresult\u001b[0m \u001b[0;34m=\u001b[0m \u001b[0mnp\u001b[0m\u001b[0;34m.\u001b[0m\u001b[0marray\u001b[0m\u001b[0;34m(\u001b[0m\u001b[0mself\u001b[0m\u001b[0;34m)\u001b[0m\u001b[0;34m\u001b[0m\u001b[0m\n\u001b[0;32m-> 2668\u001b[0;31m         \u001b[0;32mreturn\u001b[0m \u001b[0mresult\u001b[0m\u001b[0;34m.\u001b[0m\u001b[0margsort\u001b[0m\u001b[0;34m(\u001b[0m\u001b[0;34m*\u001b[0m\u001b[0margs\u001b[0m\u001b[0;34m,\u001b[0m \u001b[0;34m**\u001b[0m\u001b[0mkwargs\u001b[0m\u001b[0;34m)\u001b[0m\u001b[0;34m\u001b[0m\u001b[0m\n\u001b[0m\u001b[1;32m   2669\u001b[0m \u001b[0;34m\u001b[0m\u001b[0m\n\u001b[1;32m   2670\u001b[0m     \u001b[0;32mdef\u001b[0m \u001b[0m__add__\u001b[0m\u001b[0;34m(\u001b[0m\u001b[0mself\u001b[0m\u001b[0;34m,\u001b[0m \u001b[0mother\u001b[0m\u001b[0;34m)\u001b[0m\u001b[0;34m:\u001b[0m\u001b[0;34m\u001b[0m\u001b[0m\n",
      "\u001b[0;31mTypeError\u001b[0m: '<' not supported between instances of 'int' and 'str'"
     ]
    }
   ],
   "source": [
    "lin_regress_summary(kc_m_update7)"
   ]
  },
  {
   "cell_type": "code",
   "execution_count": 264,
   "metadata": {},
   "outputs": [
    {
     "name": "stdout",
     "output_type": "stream",
     "text": [
      "the r2 score is: 0.8716257796139122\n",
      "the test MSE is: 0.035239531709543546\n",
      "the test RMSE is: 0.18772195319019974\n",
      "                            OLS Regression Results                            \n",
      "==============================================================================\n",
      "Dep. Variable:                  price   R-squared:                       0.863\n",
      "Model:                            OLS   Adj. R-squared:                  0.863\n",
      "Method:                 Least Squares   F-statistic:                     1815.\n",
      "Date:                Tue, 16 Apr 2019   Prob (F-statistic):               0.00\n",
      "Time:                        17:50:07   Log-Likelihood:                 4709.8\n",
      "No. Observations:               21597   AIC:                            -9268.\n",
      "Df Residuals:                   21521   BIC:                            -8661.\n",
      "Df Model:                          75                                         \n",
      "Covariance Type:            nonrobust                                         \n",
      "=============================================================================================\n",
      "                                coef    std err          t      P>|t|      [0.025      0.975]\n",
      "---------------------------------------------------------------------------------------------\n",
      "waterfront                    0.5333      0.017     31.381      0.000       0.500       0.567\n",
      "view                          0.1534      0.005     30.430      0.000       0.144       0.163\n",
      "floors                       -0.0002      0.003     -0.069      0.945      -0.007       0.006\n",
      "sqft_living                   0.0002   2.36e-06     95.911      0.000       0.000       0.000\n",
      "grade                         0.1182      0.002     57.289      0.000       0.114       0.122\n",
      "yr_built_scalar_1899refyr    -0.0011   6.73e-05    -17.023      0.000      -0.001      -0.001\n",
      "98001                        11.2879      0.015    751.673      0.000      11.258      11.317\n",
      "98002                        11.2561      0.017    654.370      0.000      11.222      11.290\n",
      "98003                        11.2844      0.016    692.911      0.000      11.252      11.316\n",
      "98004                        12.3816      0.017    743.817      0.000      12.349      12.414\n",
      "98005                        12.0308      0.020    614.747      0.000      11.992      12.069\n",
      "98006                        11.9199      0.015    775.826      0.000      11.890      11.950\n",
      "98007                        11.9312      0.020    586.876      0.000      11.891      11.971\n",
      "98008                        11.9226      0.016    733.221      0.000      11.891      11.954\n",
      "98010                        11.5786      0.022    518.311      0.000      11.535      11.622\n",
      "98011                        11.7373      0.018    649.380      0.000      11.702      11.773\n",
      "98014                        11.6268      0.021    564.205      0.000      11.586      11.667\n",
      "98019                        11.6398      0.018    648.152      0.000      11.605      11.675\n",
      "98022                        11.3847      0.017    681.531      0.000      11.352      11.417\n",
      "98023                        11.2468      0.014    783.575      0.000      11.219      11.275\n",
      "98024                        11.7595      0.024    480.939      0.000      11.712      11.807\n",
      "98027                        11.8028      0.015    771.247      0.000      11.773      11.833\n",
      "98028                        11.6964      0.016    722.615      0.000      11.665      11.728\n",
      "98029                        11.8774      0.017    715.894      0.000      11.845      11.910\n",
      "98030                        11.3447      0.016    687.785      0.000      11.312      11.377\n",
      "98031                        11.3699      0.016    701.727      0.000      11.338      11.402\n",
      "98032                        11.2315      0.021    545.257      0.000      11.191      11.272\n",
      "98033                        12.0579      0.015    798.009      0.000      12.028      12.088\n",
      "98034                        11.8118      0.014    842.131      0.000      11.784      11.839\n",
      "98038                        11.4860      0.014    831.276      0.000      11.459      11.513\n",
      "98039                        12.5192      0.031    408.784      0.000      12.459      12.579\n",
      "98040                        12.1513      0.017    704.701      0.000      12.117      12.185\n",
      "98042                        11.3698      0.014    818.525      0.000      11.343      11.397\n",
      "98045                        11.6262      0.017    669.726      0.000      11.592      11.660\n",
      "98052                        11.9238      0.015    817.308      0.000      11.895      11.952\n",
      "98053                        11.8954      0.015    771.191      0.000      11.865      11.926\n",
      "98055                        11.4053      0.016    708.098      0.000      11.374      11.437\n",
      "98056                        11.6043      0.015    794.881      0.000      11.576      11.633\n",
      "98058                        11.4546      0.015    786.637      0.000      11.426      11.483\n",
      "98059                        11.6474      0.015    796.314      0.000      11.619      11.676\n",
      "98065                        11.7088      0.016    740.974      0.000      11.678      11.740\n",
      "98070                        11.6639      0.021    550.746      0.000      11.622      11.705\n",
      "98072                        11.7922      0.017    703.453      0.000      11.759      11.825\n",
      "98074                        11.8397      0.016    751.972      0.000      11.809      11.871\n",
      "98075                        11.8675      0.016    720.692      0.000      11.835      11.900\n",
      "98077                        11.7755      0.019    625.538      0.000      11.739      11.812\n",
      "98092                        11.3356      0.016    726.555      0.000      11.305      11.366\n",
      "98102                        12.1447      0.023    524.734      0.000      12.099      12.190\n",
      "98103                        12.0256      0.014    841.723      0.000      11.998      12.054\n",
      "98105                        12.1653      0.018    686.104      0.000      12.131      12.200\n",
      "98106                        11.5498      0.015    763.836      0.000      11.520      11.579\n",
      "98107                        12.0482      0.017    715.338      0.000      12.015      12.081\n",
      "98108                        11.5801      0.018    645.682      0.000      11.545      11.615\n",
      "98109                        12.1920      0.023    541.464      0.000      12.148      12.236\n",
      "98112                        12.2568      0.018    695.735      0.000      12.222      12.291\n",
      "98115                        12.0344      0.014    858.866      0.000      12.007      12.062\n",
      "98116                        11.9775      0.016    754.024      0.000      11.946      12.009\n",
      "98117                        12.0180      0.014    847.854      0.000      11.990      12.046\n",
      "98118                        11.6740      0.014    841.955      0.000      11.647      11.701\n",
      "98119                        12.1770      0.019    637.163      0.000      12.140      12.214\n",
      "98122                        12.0083      0.017    712.960      0.000      11.975      12.041\n",
      "98125                        11.7997      0.015    805.597      0.000      11.771      11.828\n",
      "98126                        11.7495      0.015    775.489      0.000      11.720      11.779\n",
      "98133                        11.6991      0.014    825.928      0.000      11.671      11.727\n",
      "98136                        11.8920      0.017    715.736      0.000      11.859      11.925\n",
      "98144                        11.8816      0.016    763.457      0.000      11.851      11.912\n",
      "98146                        11.5136      0.016    739.430      0.000      11.483      11.544\n",
      "98148                        11.4018      0.028    407.523      0.000      11.347      11.457\n",
      "98155                        11.6803      0.014    814.536      0.000      11.652      11.708\n",
      "98166                        11.5669      0.016    702.361      0.000      11.535      11.599\n",
      "98168                        11.3030      0.016    721.353      0.000      11.272      11.334\n",
      "98177                        11.8515      0.017    697.433      0.000      11.818      11.885\n",
      "98178                        11.3754      0.016    716.365      0.000      11.344      11.407\n",
      "98188                        11.3459      0.020    572.089      0.000      11.307      11.385\n",
      "98198                        11.3205      0.016    713.653      0.000      11.289      11.352\n",
      "98199                        12.0763      0.016    738.650      0.000      12.044      12.108\n",
      "==============================================================================\n",
      "Omnibus:                     1855.519   Durbin-Watson:                   2.004\n",
      "Prob(Omnibus):                  0.000   Jarque-Bera (JB):             8216.071\n",
      "Skew:                          -0.321   Prob(JB):                         0.00\n",
      "Kurtosis:                       5.953   Cond. No.                     1.66e+05\n",
      "==============================================================================\n",
      "\n",
      "Warnings:\n",
      "[1] Standard Errors assume that the covariance matrix of the errors is correctly specified.\n",
      "[2] The condition number is large, 1.66e+05. This might indicate that there are\n",
      "strong multicollinearity or other numerical problems.\n"
     ]
    }
   ],
   "source": [
    "lin_regress_logprice_summary(kc_m_update7)"
   ]
  },
  {
   "cell_type": "code",
   "execution_count": null,
   "metadata": {},
   "outputs": [],
   "source": []
  },
  {
   "cell_type": "code",
   "execution_count": 265,
   "metadata": {},
   "outputs": [],
   "source": [
    "kc_use = kc_measures[['price','sqft_living','bedrooms','bathrooms',\n",
    "                      'grade', 'sqft_lot']]\n",
    "kc_m_update8 = pd.concat([kc_use, df_zipcode_dums], axis=1)"
   ]
  },
  {
   "cell_type": "code",
   "execution_count": 266,
   "metadata": {},
   "outputs": [
    {
     "name": "stdout",
     "output_type": "stream",
     "text": [
      "the r2 score is: 0.74038834595689\n",
      "the test MSE is: 40613086115.20476\n",
      "the test RMSE is: 201526.88682953638\n",
      "                            OLS Regression Results                            \n",
      "==============================================================================\n",
      "Dep. Variable:                  price   R-squared:                       0.751\n",
      "Model:                            OLS   Adj. R-squared:                  0.750\n",
      "Method:                 Least Squares   F-statistic:                     876.6\n",
      "Date:                Tue, 16 Apr 2019   Prob (F-statistic):               0.00\n",
      "Time:                        17:50:08   Log-Likelihood:            -2.9238e+05\n",
      "No. Observations:               21597   AIC:                         5.849e+05\n",
      "Df Residuals:                   21522   BIC:                         5.855e+05\n",
      "Df Model:                          74                                         \n",
      "Covariance Type:            nonrobust                                         \n",
      "===============================================================================\n",
      "                  coef    std err          t      P>|t|      [0.025      0.975]\n",
      "-------------------------------------------------------------------------------\n",
      "sqft_living   225.1416      2.763     81.484      0.000     219.726     230.557\n",
      "bedrooms    -3.482e+04   1738.136    -20.030      0.000   -3.82e+04   -3.14e+04\n",
      "bathrooms   -8773.8338   2642.109     -3.321      0.001    -1.4e+04   -3595.104\n",
      "grade        5.793e+04   1818.397     31.857      0.000    5.44e+04    6.15e+04\n",
      "sqft_lot        0.2572      0.033      7.762      0.000       0.192       0.322\n",
      "98001       -4.382e+05   1.51e+04    -29.045      0.000   -4.68e+05   -4.09e+05\n",
      "98002       -3.899e+05    1.7e+04    -22.895      0.000   -4.23e+05   -3.57e+05\n",
      "98003        -4.45e+05   1.62e+04    -27.474      0.000   -4.77e+05   -4.13e+05\n",
      "98004        3.513e+05   1.64e+04     21.414      0.000    3.19e+05    3.83e+05\n",
      "98005       -1.294e+05   1.91e+04     -6.780      0.000   -1.67e+05    -9.2e+04\n",
      "98006       -1.471e+05   1.53e+04     -9.593      0.000   -1.77e+05   -1.17e+05\n",
      "98007       -1.862e+05   1.99e+04     -9.338      0.000   -2.25e+05   -1.47e+05\n",
      "98008       -1.323e+05   1.63e+04     -8.119      0.000   -1.64e+05      -1e+05\n",
      "98010       -3.682e+05   2.16e+04    -17.012      0.000   -4.11e+05   -3.26e+05\n",
      "98011       -3.266e+05   1.78e+04    -18.387      0.000   -3.61e+05   -2.92e+05\n",
      "98014       -3.517e+05   2.01e+04    -17.485      0.000   -3.91e+05   -3.12e+05\n",
      "98019       -3.722e+05   1.76e+04    -21.124      0.000   -4.07e+05   -3.38e+05\n",
      "98022       -4.049e+05   1.67e+04    -24.286      0.000   -4.38e+05   -3.72e+05\n",
      "98023       -4.654e+05   1.45e+04    -32.129      0.000   -4.94e+05   -4.37e+05\n",
      "98024       -2.779e+05   2.37e+04    -11.732      0.000   -3.24e+05   -2.31e+05\n",
      "98027       -2.871e+05   1.52e+04    -18.854      0.000   -3.17e+05   -2.57e+05\n",
      "98028       -3.194e+05   1.61e+04    -19.846      0.000   -3.51e+05   -2.88e+05\n",
      "98029       -2.482e+05   1.64e+04    -15.148      0.000    -2.8e+05   -2.16e+05\n",
      "98030       -4.373e+05   1.64e+04    -26.628      0.000    -4.7e+05   -4.05e+05\n",
      "98031       -4.239e+05   1.62e+04    -26.223      0.000   -4.56e+05   -3.92e+05\n",
      "98032       -4.234e+05   2.01e+04    -21.028      0.000   -4.63e+05   -3.84e+05\n",
      "98033       -5.828e+04   1.51e+04     -3.857      0.000   -8.79e+04   -2.87e+04\n",
      "98034       -2.217e+05   1.42e+04    -15.586      0.000    -2.5e+05   -1.94e+05\n",
      "98038       -4.226e+05    1.4e+04    -30.288      0.000    -4.5e+05   -3.95e+05\n",
      "98039        9.167e+05   2.91e+04     31.482      0.000     8.6e+05    9.74e+05\n",
      "98040        1.369e+05    1.7e+04      8.040      0.000    1.03e+05     1.7e+05\n",
      "98042       -4.324e+05   1.41e+04    -30.738      0.000    -4.6e+05   -4.05e+05\n",
      "98045       -3.498e+05   1.71e+04    -20.407      0.000   -3.83e+05   -3.16e+05\n",
      "98052       -2.176e+05   1.47e+04    -14.838      0.000   -2.46e+05   -1.89e+05\n",
      "98053       -2.676e+05   1.51e+04    -17.692      0.000   -2.97e+05   -2.38e+05\n",
      "98055       -3.839e+05    1.6e+04    -24.052      0.000   -4.15e+05   -3.53e+05\n",
      "98056       -3.242e+05   1.47e+04    -22.047      0.000   -3.53e+05   -2.95e+05\n",
      "98058       -4.099e+05   1.47e+04    -27.904      0.000   -4.39e+05   -3.81e+05\n",
      "98059       -3.585e+05   1.47e+04    -24.320      0.000   -3.87e+05    -3.3e+05\n",
      "98065        -3.65e+05   1.56e+04    -23.351      0.000   -3.96e+05   -3.34e+05\n",
      "98070         -2.7e+05   2.05e+04    -13.157      0.000    -3.1e+05    -2.3e+05\n",
      "98072       -2.995e+05   1.65e+04    -18.129      0.000   -3.32e+05   -2.67e+05\n",
      "98074       -2.701e+05   1.56e+04    -17.277      0.000   -3.01e+05   -2.39e+05\n",
      "98075       -2.569e+05   1.63e+04    -15.764      0.000   -2.89e+05   -2.25e+05\n",
      "98077       -3.357e+05   1.83e+04    -18.295      0.000   -3.72e+05      -3e+05\n",
      "98092       -4.811e+05   1.56e+04    -30.821      0.000   -5.12e+05    -4.5e+05\n",
      "98102        6.688e+04   2.21e+04      3.033      0.002    2.37e+04     1.1e+05\n",
      "98103       -9.329e+04   1.41e+04     -6.639      0.000   -1.21e+05   -6.57e+04\n",
      "98105        6.727e+04   1.72e+04      3.903      0.000    3.35e+04    1.01e+05\n",
      "98106       -2.907e+05   1.51e+04    -19.247      0.000    -3.2e+05   -2.61e+05\n",
      "98107       -8.519e+04   1.64e+04     -5.185      0.000   -1.17e+05    -5.3e+04\n",
      "98108       -3.074e+05   1.76e+04    -17.503      0.000   -3.42e+05   -2.73e+05\n",
      "98109        8.212e+04   2.15e+04      3.818      0.000       4e+04    1.24e+05\n",
      "98112        1.863e+05   1.69e+04     11.026      0.000    1.53e+05    2.19e+05\n",
      "98115        -9.32e+04   1.39e+04     -6.693      0.000    -1.2e+05   -6.59e+04\n",
      "98116       -1.142e+05   1.56e+04     -7.328      0.000   -1.45e+05   -8.36e+04\n",
      "98117       -1.061e+05    1.4e+04     -7.584      0.000   -1.34e+05   -7.87e+04\n",
      "98118       -2.434e+05   1.39e+04    -17.564      0.000   -2.71e+05   -2.16e+05\n",
      "98119        6.559e+04   1.84e+04      3.561      0.000    2.95e+04    1.02e+05\n",
      "98122       -8.856e+04   1.64e+04     -5.412      0.000   -1.21e+05   -5.65e+04\n",
      "98125       -2.132e+05   1.47e+04    -14.547      0.000   -2.42e+05   -1.84e+05\n",
      "98126       -2.179e+05   1.49e+04    -14.596      0.000   -2.47e+05   -1.89e+05\n",
      "98133       -2.666e+05   1.42e+04    -18.741      0.000   -2.94e+05   -2.39e+05\n",
      "98136        -1.49e+05   1.63e+04     -9.156      0.000   -1.81e+05   -1.17e+05\n",
      "98144       -1.387e+05   1.53e+04     -9.050      0.000   -1.69e+05   -1.09e+05\n",
      "98146         -2.8e+05   1.55e+04    -18.078      0.000    -3.1e+05    -2.5e+05\n",
      "98148       -3.574e+05   2.68e+04    -13.328      0.000    -4.1e+05   -3.05e+05\n",
      "98155       -2.649e+05   1.44e+04    -18.345      0.000   -2.93e+05   -2.37e+05\n",
      "98166       -2.987e+05   1.63e+04    -18.328      0.000   -3.31e+05   -2.67e+05\n",
      "98168       -3.534e+05   1.55e+04    -22.776      0.000   -3.84e+05   -3.23e+05\n",
      "98177       -1.751e+05   1.67e+04    -10.489      0.000   -2.08e+05   -1.42e+05\n",
      "98178       -3.455e+05   1.58e+04    -21.827      0.000   -3.77e+05   -3.14e+05\n",
      "98188       -3.911e+05   1.94e+04    -20.138      0.000   -4.29e+05   -3.53e+05\n",
      "98198       -3.778e+05   1.58e+04    -23.906      0.000   -4.09e+05   -3.47e+05\n",
      "98199       -2.926e+04    1.6e+04     -1.829      0.067   -6.06e+04    2095.003\n",
      "==============================================================================\n",
      "Omnibus:                    22183.524   Durbin-Watson:                   1.980\n",
      "Prob(Omnibus):                  0.000   Jarque-Bera (JB):          3731074.242\n",
      "Skew:                           4.752   Prob(JB):                         0.00\n",
      "Kurtosis:                      66.686   Cond. No.                     3.54e+06\n",
      "==============================================================================\n",
      "\n",
      "Warnings:\n",
      "[1] Standard Errors assume that the covariance matrix of the errors is correctly specified.\n",
      "[2] The condition number is large, 3.54e+06. This might indicate that there are\n",
      "strong multicollinearity or other numerical problems.\n"
     ]
    }
   ],
   "source": [
    "lin_regress_summary(kc_m_update8)"
   ]
  },
  {
   "cell_type": "code",
   "execution_count": 267,
   "metadata": {},
   "outputs": [],
   "source": [
    "kc_size = kc_measures[['price','sqft_living','sqft_lot','sqft_living15','sqft_lot15']]"
   ]
  },
  {
   "cell_type": "code",
   "execution_count": 268,
   "metadata": {},
   "outputs": [
    {
     "name": "stdout",
     "output_type": "stream",
     "text": [
      "the r2 score is: 0.48706870232512056\n",
      "the test MSE is: 67992862746.98016\n",
      "the test RMSE is: 260754.41079103563\n",
      "                            OLS Regression Results                            \n",
      "==============================================================================\n",
      "Dep. Variable:                  price   R-squared:                       0.840\n",
      "Model:                            OLS   Adj. R-squared:                  0.840\n",
      "Method:                 Least Squares   F-statistic:                 2.838e+04\n",
      "Date:                Tue, 16 Apr 2019   Prob (F-statistic):               0.00\n",
      "Time:                        17:50:08   Log-Likelihood:            -3.0002e+05\n",
      "No. Observations:               21597   AIC:                         6.001e+05\n",
      "Df Residuals:                   21593   BIC:                         6.001e+05\n",
      "Df Model:                           4                                         \n",
      "Covariance Type:            nonrobust                                         \n",
      "=================================================================================\n",
      "                    coef    std err          t      P>|t|      [0.025      0.975]\n",
      "---------------------------------------------------------------------------------\n",
      "sqft_living     242.4349      2.972     81.566      0.000     236.609     248.261\n",
      "sqft_lot          0.0731      0.062      1.183      0.237      -0.048       0.194\n",
      "sqft_living15    27.9292      3.213      8.694      0.000      21.632      34.226\n",
      "sqft_lot15       -0.7802      0.094     -8.275      0.000      -0.965      -0.595\n",
      "==============================================================================\n",
      "Omnibus:                    16836.590   Durbin-Watson:                   1.979\n",
      "Prob(Omnibus):                  0.000   Jarque-Bera (JB):           834485.577\n",
      "Skew:                           3.331   Prob(JB):                         0.00\n",
      "Kurtosis:                      32.715   Cond. No.                         123.\n",
      "==============================================================================\n",
      "\n",
      "Warnings:\n",
      "[1] Standard Errors assume that the covariance matrix of the errors is correctly specified.\n"
     ]
    }
   ],
   "source": [
    "lin_regress_summary(kc_size)"
   ]
  },
  {
   "cell_type": "code",
   "execution_count": 269,
   "metadata": {},
   "outputs": [],
   "source": [
    "kc_structure = kc_measures[['price','bedrooms', 'bathrooms','floors',\n",
    "                           'waterfront','view','condition', 'grade',\n",
    "                           'renovated','basement']]"
   ]
  },
  {
   "cell_type": "code",
   "execution_count": 270,
   "metadata": {},
   "outputs": [
    {
     "name": "stdout",
     "output_type": "stream",
     "text": [
      "the r2 score is: 0.542610991732333\n",
      "the test MSE is: 63208628350.04705\n",
      "the test RMSE is: 251413.26208067674\n",
      "                            OLS Regression Results                            \n",
      "==============================================================================\n",
      "Dep. Variable:                  price   R-squared:                       0.825\n",
      "Model:                            OLS   Adj. R-squared:                  0.825\n",
      "Method:                 Least Squares   F-statistic:                 1.130e+04\n",
      "Date:                Tue, 16 Apr 2019   Prob (F-statistic):               0.00\n",
      "Time:                        17:50:09   Log-Likelihood:            -3.0101e+05\n",
      "No. Observations:               21597   AIC:                         6.020e+05\n",
      "Df Residuals:                   21588   BIC:                         6.021e+05\n",
      "Df Model:                           9                                         \n",
      "Covariance Type:            nonrobust                                         \n",
      "==============================================================================\n",
      "                 coef    std err          t      P>|t|      [0.025      0.975]\n",
      "------------------------------------------------------------------------------\n",
      "bedrooms   -1.793e+04   2331.545     -7.689      0.000   -2.25e+04   -1.34e+04\n",
      "bathrooms   1.304e+05   3672.361     35.506      0.000    1.23e+05    1.38e+05\n",
      "floors     -7.215e+04   4399.307    -16.400      0.000   -8.08e+04   -6.35e+04\n",
      "waterfront  7.768e+05   2.35e+04     33.048      0.000    7.31e+05    8.23e+05\n",
      "view         2.37e+05   6694.715     35.397      0.000    2.24e+05     2.5e+05\n",
      "condition  -6.139e+04   2301.505    -26.674      0.000   -6.59e+04   -5.69e+04\n",
      "grade       7.951e+04   1667.777     47.676      0.000    7.62e+04    8.28e+04\n",
      "renovated   1.195e+05   1.03e+04     11.643      0.000    9.94e+04     1.4e+05\n",
      "basement    3.339e+04   4256.150      7.844      0.000     2.5e+04    4.17e+04\n",
      "==============================================================================\n",
      "Omnibus:                    17965.656   Durbin-Watson:                   1.963\n",
      "Prob(Omnibus):                  0.000   Jarque-Bera (JB):          1264425.716\n",
      "Skew:                           3.566   Prob(JB):                         0.00\n",
      "Kurtosis:                      39.800   Cond. No.                         120.\n",
      "==============================================================================\n",
      "\n",
      "Warnings:\n",
      "[1] Standard Errors assume that the covariance matrix of the errors is correctly specified.\n"
     ]
    }
   ],
   "source": [
    "lin_regress_summary(kc_structure)"
   ]
  },
  {
   "cell_type": "markdown",
   "metadata": {},
   "source": [
    "### Model fit testing"
   ]
  },
  {
   "cell_type": "code",
   "execution_count": 271,
   "metadata": {},
   "outputs": [],
   "source": [
    "import statsmodels.api as sm\n",
    "\n",
    "def stepwise_selection(df, \n",
    "                       initial_list=[], \n",
    "                       threshold_in=0.01, \n",
    "                       threshold_out = 0.05, \n",
    "                       verbose=True):\n",
    "    \"\"\" Perform a forward-backward feature selection \n",
    "    based on p-value from statsmodels.api.OLS\n",
    "    Arguments:\n",
    "        X - pandas.DataFrame with candidate features\n",
    "        y - list-like with the target\n",
    "        initial_list - list of features to start with (column names of X)\n",
    "        threshold_in - include a feature if its p-value < threshold_in\n",
    "        threshold_out - exclude a feature if its p-value > threshold_out\n",
    "        verbose - whether to print the sequence of inclusions and exclusions\n",
    "    Returns: list of selected features \n",
    "    Always set threshold_in < threshold_out to avoid infinite looping.\n",
    "    See https://en.wikipedia.org/wiki/Stepwise_regression for the details\n",
    "    \"\"\"\n",
    "    y = df['price']\n",
    "    X = df.drop('price', axis=1)\n",
    "    included = list(initial_list)\n",
    "    while True:\n",
    "        changed=False\n",
    "        # forward step\n",
    "        excluded = list(set(X.columns)-set(included))\n",
    "        new_pval = pd.Series(index=excluded)\n",
    "        for new_column in excluded:\n",
    "            model = sm.OLS(y, sm.add_constant(pd.DataFrame(X[included+[new_column]]))).fit()\n",
    "            new_pval[new_column] = model.pvalues[new_column]\n",
    "        best_pval = new_pval.min()\n",
    "        if best_pval < threshold_in:\n",
    "            best_feature = new_pval.idxmin()\n",
    "            included.append(best_feature)\n",
    "            changed=True\n",
    "            if verbose:\n",
    "                print('Add  {:30} with p-value {:.6}'.format(best_feature, best_pval))\n",
    "        # backward step\n",
    "        model = sm.OLS(y, sm.add_constant(pd.DataFrame(X[included]))).fit()\n",
    "        # use all coefs except intercept\n",
    "        pvalues = model.pvalues.iloc[1:]\n",
    "        worst_pval = pvalues.max() # null if pvalues is empty\n",
    "        if worst_pval > threshold_out:\n",
    "            changed=True\n",
    "            worst_feature = pvalues.argmax()\n",
    "            included.remove(worst_feature)\n",
    "            if verbose:\n",
    "                print('Drop {:30} with p-value {:.6}'.format(worst_feature, worst_pval))\n",
    "        if not changed:\n",
    "            break\n",
    "    return included"
   ]
  },
  {
   "cell_type": "code",
   "execution_count": 272,
   "metadata": {},
   "outputs": [
    {
     "name": "stdout",
     "output_type": "stream",
     "text": [
      "Add  floors                         with p-value 0.0\n",
      "Add  sqft_living                    with p-value 0.0\n",
      "Drop floors                         with p-value 0.0652283\n"
     ]
    },
    {
     "name": "stderr",
     "output_type": "stream",
     "text": [
      "/anaconda3/lib/python3.6/site-packages/ipykernel_launcher.py:46: FutureWarning: 'argmax' is deprecated, use 'idxmax' instead. The behavior of 'argmax'\n",
      "will be corrected to return the positional maximum in the future.\n",
      "Use 'series.values.argmax' to get the position of the maximum now.\n"
     ]
    },
    {
     "name": "stdout",
     "output_type": "stream",
     "text": [
      "Add  waterfront                     with p-value 0.0\n",
      "Add  grade                          with p-value 0.0\n",
      "Add  yr_built_scalar_1899refyr      with p-value 0.0\n",
      "Add                           98004 with p-value 0.0\n",
      "Add                           98039 with p-value 1.4585e-293\n",
      "Add                           98112 with p-value 9.1631e-143\n",
      "Add                           98040 with p-value 1.59767e-151\n",
      "Add  view                           with p-value 4.66038e-121\n",
      "Add                           98033 with p-value 7.28967e-104\n",
      "Add                           98023 with p-value 4.26657e-96\n",
      "Add                           98105 with p-value 1.85388e-67\n",
      "Add                           98092 with p-value 1.01053e-60\n",
      "Add                           98119 with p-value 4.86705e-60\n",
      "Add                           98103 with p-value 1.48949e-63\n",
      "Add                           98115 with p-value 2.21566e-65\n",
      "Add                           98199 with p-value 3.90015e-70\n",
      "Add                           98117 with p-value 4.17807e-66\n",
      "Add                           98102 with p-value 6.00703e-59\n",
      "Add                           98109 with p-value 2.51145e-61\n",
      "Add                           98107 with p-value 9.39441e-56\n",
      "Add                           98006 with p-value 3.41386e-48\n",
      "Add                           98122 with p-value 1.10709e-49\n",
      "Add                           98116 with p-value 4.20899e-45\n",
      "Add                           98144 with p-value 6.71422e-41\n",
      "Add                           98052 with p-value 3.61886e-42\n",
      "Add                           98003 with p-value 7.51e-37\n",
      "Add                           98005 with p-value 6.26449e-36\n",
      "Add                           98053 with p-value 4.34524e-36\n",
      "Add                           98008 with p-value 2.19068e-35\n",
      "Add                           98034 with p-value 1.19252e-34\n",
      "Add                           98042 with p-value 2.58491e-28\n",
      "Add                           98001 with p-value 2.99804e-29\n",
      "Add                           98198 with p-value 8.51175e-26\n",
      "Add                           98058 with p-value 2.26879e-25\n",
      "Add                           98030 with p-value 6.94854e-24\n",
      "Add                           98038 with p-value 2.25501e-25\n",
      "Add                           98031 with p-value 5.21e-25\n",
      "Add                           98178 with p-value 1.73492e-22\n",
      "Add                           98022 with p-value 4.20974e-21\n",
      "Add                           98032 with p-value 3.36181e-19\n",
      "Add                           98136 with p-value 6.94715e-18\n",
      "Add                           98055 with p-value 5.38139e-17\n",
      "Add                           98002 with p-value 4.84473e-15\n",
      "Add                           98166 with p-value 2.17551e-15\n",
      "Add                           98188 with p-value 1.79787e-14\n",
      "Add                           98070 with p-value 6.30779e-14\n",
      "Add                           98168 with p-value 2.7164e-13\n",
      "Add                           98177 with p-value 1.6503e-11\n",
      "Add                           98029 with p-value 3.37497e-12\n",
      "Add                           98007 with p-value 8.0148e-11\n",
      "Add                           98125 with p-value 1.04964e-08\n",
      "Add                           98059 with p-value 1.60389e-07\n",
      "Add                           98126 with p-value 1.00479e-06\n",
      "Add                           98075 with p-value 6.05483e-07\n",
      "Add                           98074 with p-value 2.33522e-06\n",
      "Add                           98027 with p-value 3.23888e-06\n",
      "Add  floors                         with p-value 1.14477e-05\n",
      "Add                           98133 with p-value 4.41388e-05\n",
      "Add                           98118 with p-value 1.53777e-05\n",
      "Add                           98024 with p-value 0.000318903\n",
      "Add                           98072 with p-value 0.000227584\n",
      "Add                           98155 with p-value 0.00122358\n",
      "Drop                          98059 with p-value 0.0612596\n"
     ]
    },
    {
     "data": {
      "text/plain": [
       "['sqft_living',\n",
       " 'waterfront',\n",
       " 'grade',\n",
       " 'yr_built_scalar_1899refyr',\n",
       " 98004,\n",
       " 98039,\n",
       " 98112,\n",
       " 98040,\n",
       " 'view',\n",
       " 98033,\n",
       " 98023,\n",
       " 98105,\n",
       " 98092,\n",
       " 98119,\n",
       " 98103,\n",
       " 98115,\n",
       " 98199,\n",
       " 98117,\n",
       " 98102,\n",
       " 98109,\n",
       " 98107,\n",
       " 98006,\n",
       " 98122,\n",
       " 98116,\n",
       " 98144,\n",
       " 98052,\n",
       " 98003,\n",
       " 98005,\n",
       " 98053,\n",
       " 98008,\n",
       " 98034,\n",
       " 98042,\n",
       " 98001,\n",
       " 98198,\n",
       " 98058,\n",
       " 98030,\n",
       " 98038,\n",
       " 98031,\n",
       " 98178,\n",
       " 98022,\n",
       " 98032,\n",
       " 98136,\n",
       " 98055,\n",
       " 98002,\n",
       " 98166,\n",
       " 98188,\n",
       " 98070,\n",
       " 98168,\n",
       " 98177,\n",
       " 98029,\n",
       " 98007,\n",
       " 98125,\n",
       " 98126,\n",
       " 98075,\n",
       " 98074,\n",
       " 98027,\n",
       " 'floors',\n",
       " 98133,\n",
       " 98118,\n",
       " 98024,\n",
       " 98072,\n",
       " 98155]"
      ]
     },
     "execution_count": 272,
     "metadata": {},
     "output_type": "execute_result"
    }
   ],
   "source": [
    "# exploratory stepwise_selection of kc_m_update7 model\n",
    "stepwise_selection(kc_m_update7)"
   ]
  },
  {
   "cell_type": "code",
   "execution_count": 273,
   "metadata": {},
   "outputs": [
    {
     "data": {
      "text/plain": [
       "<matplotlib.axes._subplots.AxesSubplot at 0x1a1a17bf28>"
      ]
     },
     "execution_count": 273,
     "metadata": {},
     "output_type": "execute_result"
    },
    {
     "data": {
      "image/png": "[encoded data removed]",
      "text/plain": [
       "<Figure size 792x648 with 2 Axes>"
      ]
     },
     "metadata": {},
     "output_type": "display_data"
    }
   ],
   "source": [
    "corr = kc_measures.corr()\n",
    "\n",
    "mask = np.zeros_like(corr, dtype=np.bool)\n",
    "mask[np.triu_indices_from(mask)] = True\n",
    "\n",
    "f, ax = plt.subplots(figsize=(11, 9))\n",
    "\n",
    "cmap = sns.diverging_palette(220, 10, as_cmap=True)\n",
    "\n",
    "sns.heatmap(corr, mask=mask, cmap=cmap, vmax=.3, center=0,\n",
    "            square=True, linewidths=.5, cbar_kws={\"shrink\": .5})"
   ]
  },
  {
   "cell_type": "markdown",
   "metadata": {},
   "source": [
    "### Looking for multicolinearity"
   ]
  },
  {
   "cell_type": "markdown",
   "metadata": {},
   "source": [
    "From: https://seattle.curbed.com/2017/10/11/16462132/seattle-cheap-expensive-neighborhoods-buying-home"
   ]
  },
  {
   "cell_type": "code",
   "execution_count": 274,
   "metadata": {},
   "outputs": [],
   "source": [
    "from sklearn import preprocessing\n",
    "import statsmodels.api as sm"
   ]
  },
  {
   "cell_type": "markdown",
   "metadata": {},
   "source": [
    "### Multivariate Linear Regression Models (Normalized just with Standard scalar, but not train-test split)"
   ]
  },
  {
   "cell_type": "code",
   "execution_count": 275,
   "metadata": {},
   "outputs": [],
   "source": [
    "def ml_summary(df):\n",
    "    \n",
    "    scaler = preprocessing.StandardScaler()\n",
    "    np_scaled = scaler.fit_transform(df)\n",
    "    df_normalized = pd.DataFrame(np_scaled, columns=df.columns)\n",
    "    \n",
    "    y = df_normalized['price']\n",
    "    X = df_normalized.drop('price', axis=1)\n",
    "    \n",
    "    predictors_int = sm.add_constant(X)\n",
    "    model = sm.OLS(y, predictors_int).fit()\n",
    "    print(model.summary())"
   ]
  },
  {
   "cell_type": "markdown",
   "metadata": {},
   "source": [
    "### Plotting practice"
   ]
  },
  {
   "cell_type": "code",
   "execution_count": 276,
   "metadata": {},
   "outputs": [
    {
     "data": {
      "text/plain": [
       "(array([2.180e+02, 1.457e+03, 3.089e+03, 3.271e+03, 3.056e+03, 2.419e+03,\n",
       "        2.034e+03, 1.464e+03, 1.157e+03, 8.880e+02, 5.930e+02, 4.180e+02,\n",
       "        2.380e+02, 1.740e+02, 1.770e+02, 1.350e+02, 1.320e+02, 9.100e+01,\n",
       "        8.100e+01, 7.900e+01, 4.200e+01, 6.600e+01, 3.800e+01, 4.000e+01,\n",
       "        2.900e+01, 1.900e+01, 7.000e+00, 2.300e+01, 1.800e+01, 1.600e+01,\n",
       "        1.500e+01, 1.700e+01, 1.200e+01, 5.000e+00, 8.000e+00, 4.000e+00,\n",
       "        5.000e+00, 1.000e+01, 7.000e+00, 7.000e+00, 6.000e+00, 0.000e+00,\n",
       "        6.000e+00, 4.000e+00, 0.000e+00, 1.000e+00, 5.000e+00, 1.000e+00,\n",
       "        2.000e+00, 1.000e+00, 0.000e+00, 1.000e+00, 0.000e+00, 0.000e+00,\n",
       "        1.000e+00, 0.000e+00, 0.000e+00, 1.000e+00, 1.000e+00, 0.000e+00,\n",
       "        1.000e+00, 0.000e+00, 0.000e+00, 0.000e+00, 0.000e+00, 0.000e+00,\n",
       "        1.000e+00, 0.000e+00, 1.000e+00, 1.000e+00, 0.000e+00, 0.000e+00,\n",
       "        1.000e+00, 0.000e+00, 0.000e+00, 0.000e+00, 0.000e+00, 0.000e+00,\n",
       "        0.000e+00, 0.000e+00, 0.000e+00, 0.000e+00, 0.000e+00, 0.000e+00,\n",
       "        0.000e+00, 0.000e+00, 0.000e+00, 0.000e+00, 0.000e+00, 1.000e+00,\n",
       "        0.000e+00, 1.000e+00, 0.000e+00, 0.000e+00, 0.000e+00, 0.000e+00,\n",
       "        0.000e+00, 0.000e+00, 0.000e+00, 1.000e+00]),\n",
       " array([  78000.,  154220.,  230440.,  306660.,  382880.,  459100.,\n",
       "         535320.,  611540.,  687760.,  763980.,  840200.,  916420.,\n",
       "         992640., 1068860., 1145080., 1221300., 1297520., 1373740.,\n",
       "        1449960., 1526180., 1602400., 1678620., 1754840., 1831060.,\n",
       "        1907280., 1983500., 2059720., 2135940., 2212160., 2288380.,\n",
       "        2364600., 2440820., 2517040., 2593260., 2669480., 2745700.,\n",
       "        2821920., 2898140., 2974360., 3050580., 3126800., 3203020.,\n",
       "        3279240., 3355460., 3431680., 3507900., 3584120., 3660340.,\n",
       "        3736560., 3812780., 3889000., 3965220., 4041440., 4117660.,\n",
       "        4193880., 4270100., 4346320., 4422540., 4498760., 4574980.,\n",
       "        4651200., 4727420., 4803640., 4879860., 4956080., 5032300.,\n",
       "        5108520., 5184740., 5260960., 5337180., 5413400., 5489620.,\n",
       "        5565840., 5642060., 5718280., 5794500., 5870720., 5946940.,\n",
       "        6023160., 6099380., 6175600., 6251820., 6328040., 6404260.,\n",
       "        6480480., 6556700., 6632920., 6709140., 6785360., 6861580.,\n",
       "        6937800., 7014020., 7090240., 7166460., 7242680., 7318900.,\n",
       "        7395120., 7471340., 7547560., 7623780., 7700000.]),\n",
       " <a list of 100 Patch objects>)"
      ]
     },
     "execution_count": 276,
     "metadata": {},
     "output_type": "execute_result"
    },
    {
     "data": {
      "text/plain": [
       "(array([1.500e+01, 5.900e+01, 2.580e+02, 5.230e+02, 8.350e+02, 1.069e+03,\n",
       "        1.248e+03, 1.388e+03, 1.480e+03, 1.479e+03, 1.421e+03, 1.416e+03,\n",
       "        1.268e+03, 1.215e+03, 1.052e+03, 9.540e+02, 8.690e+02, 8.030e+02,\n",
       "        6.240e+02, 5.430e+02, 4.880e+02, 4.520e+02, 3.340e+02, 3.370e+02,\n",
       "        2.220e+02, 2.030e+02, 1.790e+02, 1.350e+02, 1.180e+02, 1.130e+02,\n",
       "        9.200e+01, 6.600e+01, 5.900e+01, 3.200e+01, 3.100e+01, 2.900e+01,\n",
       "        2.300e+01, 2.600e+01, 1.900e+01, 1.800e+01, 9.000e+00, 1.900e+01,\n",
       "        7.000e+00, 9.000e+00, 5.000e+00, 7.000e+00, 6.000e+00, 5.000e+00,\n",
       "        1.000e+00, 4.000e+00, 4.000e+00, 2.000e+00, 4.000e+00, 5.000e+00,\n",
       "        0.000e+00, 3.000e+00, 1.000e+00, 2.000e+00, 2.000e+00, 0.000e+00,\n",
       "        0.000e+00, 0.000e+00, 0.000e+00, 1.000e+00, 0.000e+00, 0.000e+00,\n",
       "        0.000e+00, 1.000e+00, 0.000e+00, 0.000e+00, 1.000e+00, 0.000e+00,\n",
       "        1.000e+00, 1.000e+00, 0.000e+00, 0.000e+00, 0.000e+00, 0.000e+00,\n",
       "        0.000e+00, 0.000e+00, 0.000e+00, 0.000e+00, 0.000e+00, 0.000e+00,\n",
       "        0.000e+00, 0.000e+00, 0.000e+00, 0.000e+00, 1.000e+00, 0.000e+00,\n",
       "        0.000e+00, 0.000e+00, 0.000e+00, 0.000e+00, 0.000e+00, 0.000e+00,\n",
       "        0.000e+00, 0.000e+00, 0.000e+00, 1.000e+00]),\n",
       " array([  370. ,   501.7,   633.4,   765.1,   896.8,  1028.5,  1160.2,\n",
       "         1291.9,  1423.6,  1555.3,  1687. ,  1818.7,  1950.4,  2082.1,\n",
       "         2213.8,  2345.5,  2477.2,  2608.9,  2740.6,  2872.3,  3004. ,\n",
       "         3135.7,  3267.4,  3399.1,  3530.8,  3662.5,  3794.2,  3925.9,\n",
       "         4057.6,  4189.3,  4321. ,  4452.7,  4584.4,  4716.1,  4847.8,\n",
       "         4979.5,  5111.2,  5242.9,  5374.6,  5506.3,  5638. ,  5769.7,\n",
       "         5901.4,  6033.1,  6164.8,  6296.5,  6428.2,  6559.9,  6691.6,\n",
       "         6823.3,  6955. ,  7086.7,  7218.4,  7350.1,  7481.8,  7613.5,\n",
       "         7745.2,  7876.9,  8008.6,  8140.3,  8272. ,  8403.7,  8535.4,\n",
       "         8667.1,  8798.8,  8930.5,  9062.2,  9193.9,  9325.6,  9457.3,\n",
       "         9589. ,  9720.7,  9852.4,  9984.1, 10115.8, 10247.5, 10379.2,\n",
       "        10510.9, 10642.6, 10774.3, 10906. , 11037.7, 11169.4, 11301.1,\n",
       "        11432.8, 11564.5, 11696.2, 11827.9, 11959.6, 12091.3, 12223. ,\n",
       "        12354.7, 12486.4, 12618.1, 12749.8, 12881.5, 13013.2, 13144.9,\n",
       "        13276.6, 13408.3, 13540. ]),\n",
       " <a list of 100 Patch objects>)"
      ]
     },
     "execution_count": 276,
     "metadata": {},
     "output_type": "execute_result"
    },
    {
     "data": {
      "text/plain": [
       "(array([1.8859e+04, 1.1760e+03, 6.8200e+02, 2.2600e+02, 1.0600e+02,\n",
       "        8.0000e+01, 7.5000e+01, 3.7000e+01, 2.4000e+01, 2.3000e+01,\n",
       "        1.9000e+01, 2.9000e+01, 5.9000e+01, 7.7000e+01, 1.7000e+01,\n",
       "        1.5000e+01, 1.3000e+01, 9.0000e+00, 4.0000e+00, 8.0000e+00,\n",
       "        3.0000e+00, 3.0000e+00, 3.0000e+00, 7.0000e+00, 2.0000e+00,\n",
       "        6.0000e+00, 1.0000e+01, 1.0000e+00, 1.0000e+00, 1.0000e+00,\n",
       "        5.0000e+00, 0.0000e+00, 2.0000e+00, 0.0000e+00, 1.0000e+00,\n",
       "        0.0000e+00, 0.0000e+00, 1.0000e+00, 1.0000e+00, 0.0000e+00,\n",
       "        0.0000e+00, 0.0000e+00, 0.0000e+00, 1.0000e+00, 0.0000e+00,\n",
       "        0.0000e+00, 0.0000e+00, 0.0000e+00, 0.0000e+00, 0.0000e+00,\n",
       "        0.0000e+00, 1.0000e+00, 2.0000e+00, 1.0000e+00, 0.0000e+00,\n",
       "        1.0000e+00, 0.0000e+00, 0.0000e+00, 0.0000e+00, 2.0000e+00,\n",
       "        0.0000e+00, 0.0000e+00, 1.0000e+00, 0.0000e+00, 0.0000e+00,\n",
       "        1.0000e+00, 0.0000e+00, 0.0000e+00, 0.0000e+00, 0.0000e+00,\n",
       "        1.0000e+00, 0.0000e+00, 0.0000e+00, 0.0000e+00, 0.0000e+00,\n",
       "        0.0000e+00, 0.0000e+00, 0.0000e+00, 0.0000e+00, 0.0000e+00,\n",
       "        0.0000e+00, 0.0000e+00, 0.0000e+00, 0.0000e+00, 0.0000e+00,\n",
       "        0.0000e+00, 0.0000e+00, 0.0000e+00, 0.0000e+00, 0.0000e+00,\n",
       "        0.0000e+00, 0.0000e+00, 0.0000e+00, 0.0000e+00, 0.0000e+00,\n",
       "        0.0000e+00, 0.0000e+00, 0.0000e+00, 0.0000e+00, 1.0000e+00]),\n",
       " array([5.20000000e+02, 1.70283900e+04, 3.35367800e+04, 5.00451700e+04,\n",
       "        6.65535600e+04, 8.30619500e+04, 9.95703400e+04, 1.16078730e+05,\n",
       "        1.32587120e+05, 1.49095510e+05, 1.65603900e+05, 1.82112290e+05,\n",
       "        1.98620680e+05, 2.15129070e+05, 2.31637460e+05, 2.48145850e+05,\n",
       "        2.64654240e+05, 2.81162630e+05, 2.97671020e+05, 3.14179410e+05,\n",
       "        3.30687800e+05, 3.47196190e+05, 3.63704580e+05, 3.80212970e+05,\n",
       "        3.96721360e+05, 4.13229750e+05, 4.29738140e+05, 4.46246530e+05,\n",
       "        4.62754920e+05, 4.79263310e+05, 4.95771700e+05, 5.12280090e+05,\n",
       "        5.28788480e+05, 5.45296870e+05, 5.61805260e+05, 5.78313650e+05,\n",
       "        5.94822040e+05, 6.11330430e+05, 6.27838820e+05, 6.44347210e+05,\n",
       "        6.60855600e+05, 6.77363990e+05, 6.93872380e+05, 7.10380770e+05,\n",
       "        7.26889160e+05, 7.43397550e+05, 7.59905940e+05, 7.76414330e+05,\n",
       "        7.92922720e+05, 8.09431110e+05, 8.25939500e+05, 8.42447890e+05,\n",
       "        8.58956280e+05, 8.75464670e+05, 8.91973060e+05, 9.08481450e+05,\n",
       "        9.24989840e+05, 9.41498230e+05, 9.58006620e+05, 9.74515010e+05,\n",
       "        9.91023400e+05, 1.00753179e+06, 1.02404018e+06, 1.04054857e+06,\n",
       "        1.05705696e+06, 1.07356535e+06, 1.09007374e+06, 1.10658213e+06,\n",
       "        1.12309052e+06, 1.13959891e+06, 1.15610730e+06, 1.17261569e+06,\n",
       "        1.18912408e+06, 1.20563247e+06, 1.22214086e+06, 1.23864925e+06,\n",
       "        1.25515764e+06, 1.27166603e+06, 1.28817442e+06, 1.30468281e+06,\n",
       "        1.32119120e+06, 1.33769959e+06, 1.35420798e+06, 1.37071637e+06,\n",
       "        1.38722476e+06, 1.40373315e+06, 1.42024154e+06, 1.43674993e+06,\n",
       "        1.45325832e+06, 1.46976671e+06, 1.48627510e+06, 1.50278349e+06,\n",
       "        1.51929188e+06, 1.53580027e+06, 1.55230866e+06, 1.56881705e+06,\n",
       "        1.58532544e+06, 1.60183383e+06, 1.61834222e+06, 1.63485061e+06,\n",
       "        1.65135900e+06]),\n",
       " <a list of 100 Patch objects>)"
      ]
     },
     "execution_count": 276,
     "metadata": {},
     "output_type": "execute_result"
    },
    {
     "data": {
      "image/png": "[encoded data removed]",
      "text/plain": [
       "<Figure size 864x288 with 3 Axes>"
      ]
     },
     "metadata": {},
     "output_type": "display_data"
    }
   ],
   "source": [
    "fig, ax = plt.subplots(1, 3, figsize=(12,4))\n",
    "\n",
    "ax[0].hist(kc_measures['price'], bins=100)\n",
    "ax[1].hist(kc_measures['sqft_living'], bins=100)\n",
    "ax[2].hist(kc_measures['sqft_lot'], bins=100)\n",
    "plt.show()"
   ]
  },
  {
   "cell_type": "markdown",
   "metadata": {},
   "source": [
    "### Basic single linear model w/train-test split"
   ]
  },
  {
   "cell_type": "code",
   "execution_count": 277,
   "metadata": {},
   "outputs": [],
   "source": [
    "scaler = preprocessing.StandardScaler()\n",
    "\n",
    "X = scaler.fit_transform(kc_measures[['sqft_living']])\n",
    "y = scaler.fit_transform(kc_measures[['price']])"
   ]
  },
  {
   "cell_type": "code",
   "execution_count": 278,
   "metadata": {},
   "outputs": [],
   "source": [
    "#Linear regression with SKLearn\n",
    "from sklearn.model_selection import train_test_split\n",
    "from sklearn.linear_model import LinearRegression\n",
    "from sklearn.metrics import r2_score\n",
    "from sklearn.metrics import mean_squared_error\n",
    "\n",
    "# Create train-test split\n",
    "X_train, X_test, y_train, y_test = train_test_split(X, y, test_size=0.2)"
   ]
  },
  {
   "cell_type": "code",
   "execution_count": 279,
   "metadata": {},
   "outputs": [
    {
     "data": {
      "text/plain": [
       "LinearRegression(copy_X=True, fit_intercept=True, n_jobs=1, normalize=False)"
      ]
     },
     "execution_count": 279,
     "metadata": {},
     "output_type": "execute_result"
    }
   ],
   "source": [
    "# Create model\n",
    "linreg = LinearRegression()\n",
    "linreg.fit(X_train, y_train)"
   ]
  },
  {
   "cell_type": "code",
   "execution_count": 280,
   "metadata": {},
   "outputs": [],
   "source": [
    "# Calculate our y hat (how our model performs against the test data held off)\n",
    "y_hat_test = linreg.predict(X_test)"
   ]
  },
  {
   "cell_type": "code",
   "execution_count": 281,
   "metadata": {},
   "outputs": [
    {
     "name": "stdout",
     "output_type": "stream",
     "text": [
      "RMSE: 0.5095794761708107\n",
      "R2: 0.4824189247395204\n"
     ]
    }
   ],
   "source": [
    " # See the R Squared score for on our test data\n",
    "r2 = r2_score(y_test, y_hat_test)\n",
    "\n",
    "# See our Squared Mean Error score for data\n",
    "test_mse = mean_squared_error(y_test, y_hat_test)\n",
    "print(f\"RMSE: {test_mse}\\nR2: {r2}\")"
   ]
  },
  {
   "cell_type": "code",
   "execution_count": 282,
   "metadata": {},
   "outputs": [
    {
     "data": {
      "text/plain": [
       "<matplotlib.collections.PathCollection at 0x1a160c3710>"
      ]
     },
     "execution_count": 282,
     "metadata": {},
     "output_type": "execute_result"
    },
    {
     "data": {
      "text/plain": [
       "[<matplotlib.lines.Line2D at 0x1a18d12cc0>]"
      ]
     },
     "execution_count": 282,
     "metadata": {},
     "output_type": "execute_result"
    },
    {
     "data": {
      "text/plain": [
       "Text(0.5,1,'Sqft_living v. Price')"
      ]
     },
     "execution_count": 282,
     "metadata": {},
     "output_type": "execute_result"
    },
    {
     "data": {
      "image/png": "[encoded data removed]",
      "text/plain": [
       "<Figure size 432x288 with 1 Axes>"
      ]
     },
     "metadata": {},
     "output_type": "display_data"
    }
   ],
   "source": [
    "# Plotting\n",
    "fig, ax = plt.subplots()\n",
    "ax.scatter(X_test, y_test,  color='black')\n",
    "ax.plot(X_test, y_hat_test, color='blue', linewidth=3)\n",
    "ax.set_title('Sqft_living v. Price')\n",
    "plt.show()"
   ]
  },
  {
   "cell_type": "markdown",
   "metadata": {},
   "source": [
    "Setting up a shared repo\n",
    "- Add contributor, \n",
    "- git clone, git checkout -b \"directory\" <- creates branch"
   ]
  },
  {
   "cell_type": "code",
   "execution_count": 283,
   "metadata": {},
   "outputs": [
    {
     "name": "stdout",
     "output_type": "stream",
     "text": [
      "Add  bedrooms                       with p-value 0.0\n",
      "Add  view                           with p-value 0.0\n",
      "Add  bathrooms                      with p-value 0.0\n",
      "Add  sqft_living15                  with p-value 0.0\n",
      "Drop bedrooms                       with p-value 0.429434\n",
      "Add  grade                          with p-value 0.0\n",
      "Add  yr_built_scalar_1899refyr      with p-value 0.0\n"
     ]
    },
    {
     "name": "stderr",
     "output_type": "stream",
     "text": [
      "/anaconda3/lib/python3.6/site-packages/ipykernel_launcher.py:46: FutureWarning: 'argmax' is deprecated, use 'idxmax' instead. The behavior of 'argmax'\n",
      "will be corrected to return the positional maximum in the future.\n",
      "Use 'series.values.argmax' to get the position of the maximum now.\n"
     ]
    },
    {
     "name": "stdout",
     "output_type": "stream",
     "text": [
      "Add  sqft_living                    with p-value 0.0\n",
      "Add  waterfront                     with p-value 4.65029e-298\n",
      "Add  bedrooms                       with p-value 8.59314e-78\n",
      "Add  sqft_lot15                     with p-value 2.32979e-25\n",
      "Add  condition                      with p-value 4.91628e-12\n",
      "Add  floors                         with p-value 2.24328e-13\n",
      "Add  renovated                      with p-value 0.000874365\n",
      "Add  basement                       with p-value 0.00897782\n",
      "resulting features:\n",
      "['view', 'bathrooms', 'sqft_living15', 'grade', 'yr_built_scalar_1899refyr', 'sqft_living', 'waterfront', 'bedrooms', 'sqft_lot15', 'condition', 'floors', 'renovated', 'basement']\n"
     ]
    }
   ],
   "source": [
    "result = stepwise_selection(kc_measures, verbose = True)\n",
    "print('resulting features:')\n",
    "print(result)"
   ]
  },
  {
   "cell_type": "markdown",
   "metadata": {},
   "source": [
    "* Need to check for multicollinearity \n",
    "* Seeing effect of outliers\n",
    "* What about a location makes it more valuable than others, dummy for zip codes \n",
    "* Dollar per square foot\n",
    "* Distance from Seattle, convert into single value by Lat-Long, calculate distance from \n",
    "* Potentially convert scale based to improve values\n",
    "* When normalizing, don't lose track of the values and what they mean\n",
    "* NBDime - needed to merge Jupyter notebooks\n",
    "* R squared is for representation of data, but not generalize, look at test error, RMSE, MAE, RMSLE, pick baseline error, pick metric based on business problem. \n",
    "* model.score is good for getting RMSE, but don't limit yourself to that\n",
    "* Cross validation will answer the question of whether to use more or less of a value\n",
    "* Stick with RMSE Sklearn, feature selection "
   ]
  },
  {
   "cell_type": "code",
   "execution_count": 284,
   "metadata": {},
   "outputs": [],
   "source": [
    "def lin_regress_logprice_summary(kc):\n",
    "\n",
    "    X = kc.drop(['price'], axis=1)\n",
    "    y = np.log(kc.price)\n",
    "\n",
    "    # Create train-test split\n",
    "    X_train, X_test, y_train, y_test = train_test_split(X, y, test_size=0.2)\n",
    "\n",
    "    # Create model\n",
    "    model = LinearRegression()\n",
    "    model.fit(X_train, y_train)\n",
    "\n",
    "    # Calculate our y hat (how our model performs against the test data held off)\n",
    "    y_hat_test = model.predict(X_test)\n",
    "    y_hat_test\n",
    "\n",
    "    # See the R Squared score for our test data\n",
    "    r2 = r2_score(y_test, y_hat_test)\n",
    "    print(f\"the r2 score is: {r2}\")\n",
    "\n",
    "    # See our Squared Mean Error score for data\n",
    "    test_mse = mean_squared_error(y_test, y_hat_test)\n",
    "    print(f\"the test MSE is: {test_mse}\")\n",
    "\n",
    "    test_mse = np.sqrt(test_mse)\n",
    "    print(f\"the test RMSE is: {test_mse}\")\n",
    "    \n",
    "    model = sm.OLS(y, X)\n",
    "    results = model.fit()\n",
    "    print(results.summary())"
   ]
  },
  {
   "cell_type": "code",
   "execution_count": 285,
   "metadata": {},
   "outputs": [],
   "source": [
    "# k-fold cross validation"
   ]
  },
  {
   "cell_type": "code",
   "execution_count": 286,
   "metadata": {},
   "outputs": [
    {
     "data": {
      "text/html": [
       "<div>\n",
       "<style scoped>\n",
       "    .dataframe tbody tr th:only-of-type {\n",
       "        vertical-align: middle;\n",
       "    }\n",
       "\n",
       "    .dataframe tbody tr th {\n",
       "        vertical-align: top;\n",
       "    }\n",
       "\n",
       "    .dataframe thead th {\n",
       "        text-align: right;\n",
       "    }\n",
       "</style>\n",
       "<table border=\"1\" class=\"dataframe\">\n",
       "  <thead>\n",
       "    <tr style=\"text-align: right;\">\n",
       "      <th></th>\n",
       "      <th>price</th>\n",
       "      <th>waterfront</th>\n",
       "      <th>view</th>\n",
       "      <th>floors</th>\n",
       "      <th>sqft_living</th>\n",
       "      <th>grade</th>\n",
       "      <th>yr_built_scalar_1899refyr</th>\n",
       "      <th>98001</th>\n",
       "      <th>98002</th>\n",
       "      <th>98003</th>\n",
       "      <th>...</th>\n",
       "      <th>98146</th>\n",
       "      <th>98148</th>\n",
       "      <th>98155</th>\n",
       "      <th>98166</th>\n",
       "      <th>98168</th>\n",
       "      <th>98177</th>\n",
       "      <th>98178</th>\n",
       "      <th>98188</th>\n",
       "      <th>98198</th>\n",
       "      <th>98199</th>\n",
       "    </tr>\n",
       "  </thead>\n",
       "  <tbody>\n",
       "    <tr>\n",
       "      <th>0</th>\n",
       "      <td>221900.0</td>\n",
       "      <td>0.0</td>\n",
       "      <td>0</td>\n",
       "      <td>1.0</td>\n",
       "      <td>1180</td>\n",
       "      <td>7</td>\n",
       "      <td>56</td>\n",
       "      <td>0</td>\n",
       "      <td>0</td>\n",
       "      <td>0</td>\n",
       "      <td>...</td>\n",
       "      <td>0</td>\n",
       "      <td>0</td>\n",
       "      <td>0</td>\n",
       "      <td>0</td>\n",
       "      <td>0</td>\n",
       "      <td>0</td>\n",
       "      <td>1</td>\n",
       "      <td>0</td>\n",
       "      <td>0</td>\n",
       "      <td>0</td>\n",
       "    </tr>\n",
       "    <tr>\n",
       "      <th>1</th>\n",
       "      <td>538000.0</td>\n",
       "      <td>0.0</td>\n",
       "      <td>0</td>\n",
       "      <td>2.0</td>\n",
       "      <td>2570</td>\n",
       "      <td>7</td>\n",
       "      <td>52</td>\n",
       "      <td>0</td>\n",
       "      <td>0</td>\n",
       "      <td>0</td>\n",
       "      <td>...</td>\n",
       "      <td>0</td>\n",
       "      <td>0</td>\n",
       "      <td>0</td>\n",
       "      <td>0</td>\n",
       "      <td>0</td>\n",
       "      <td>0</td>\n",
       "      <td>0</td>\n",
       "      <td>0</td>\n",
       "      <td>0</td>\n",
       "      <td>0</td>\n",
       "    </tr>\n",
       "    <tr>\n",
       "      <th>2</th>\n",
       "      <td>180000.0</td>\n",
       "      <td>0.0</td>\n",
       "      <td>0</td>\n",
       "      <td>1.0</td>\n",
       "      <td>770</td>\n",
       "      <td>6</td>\n",
       "      <td>34</td>\n",
       "      <td>0</td>\n",
       "      <td>0</td>\n",
       "      <td>0</td>\n",
       "      <td>...</td>\n",
       "      <td>0</td>\n",
       "      <td>0</td>\n",
       "      <td>0</td>\n",
       "      <td>0</td>\n",
       "      <td>0</td>\n",
       "      <td>0</td>\n",
       "      <td>0</td>\n",
       "      <td>0</td>\n",
       "      <td>0</td>\n",
       "      <td>0</td>\n",
       "    </tr>\n",
       "    <tr>\n",
       "      <th>3</th>\n",
       "      <td>604000.0</td>\n",
       "      <td>0.0</td>\n",
       "      <td>0</td>\n",
       "      <td>1.0</td>\n",
       "      <td>1960</td>\n",
       "      <td>7</td>\n",
       "      <td>66</td>\n",
       "      <td>0</td>\n",
       "      <td>0</td>\n",
       "      <td>0</td>\n",
       "      <td>...</td>\n",
       "      <td>0</td>\n",
       "      <td>0</td>\n",
       "      <td>0</td>\n",
       "      <td>0</td>\n",
       "      <td>0</td>\n",
       "      <td>0</td>\n",
       "      <td>0</td>\n",
       "      <td>0</td>\n",
       "      <td>0</td>\n",
       "      <td>0</td>\n",
       "    </tr>\n",
       "    <tr>\n",
       "      <th>4</th>\n",
       "      <td>510000.0</td>\n",
       "      <td>0.0</td>\n",
       "      <td>0</td>\n",
       "      <td>1.0</td>\n",
       "      <td>1680</td>\n",
       "      <td>8</td>\n",
       "      <td>88</td>\n",
       "      <td>0</td>\n",
       "      <td>0</td>\n",
       "      <td>0</td>\n",
       "      <td>...</td>\n",
       "      <td>0</td>\n",
       "      <td>0</td>\n",
       "      <td>0</td>\n",
       "      <td>0</td>\n",
       "      <td>0</td>\n",
       "      <td>0</td>\n",
       "      <td>0</td>\n",
       "      <td>0</td>\n",
       "      <td>0</td>\n",
       "      <td>0</td>\n",
       "    </tr>\n",
       "  </tbody>\n",
       "</table>\n",
       "<p>5 rows × 77 columns</p>\n",
       "</div>"
      ],
      "text/plain": [
       "      price  waterfront  view  floors  sqft_living  grade  \\\n",
       "0  221900.0         0.0     0     1.0         1180      7   \n",
       "1  538000.0         0.0     0     2.0         2570      7   \n",
       "2  180000.0         0.0     0     1.0          770      6   \n",
       "3  604000.0         0.0     0     1.0         1960      7   \n",
       "4  510000.0         0.0     0     1.0         1680      8   \n",
       "\n",
       "   yr_built_scalar_1899refyr  98001  98002  98003  ...    98146  98148  98155  \\\n",
       "0                         56      0      0      0  ...        0      0      0   \n",
       "1                         52      0      0      0  ...        0      0      0   \n",
       "2                         34      0      0      0  ...        0      0      0   \n",
       "3                         66      0      0      0  ...        0      0      0   \n",
       "4                         88      0      0      0  ...        0      0      0   \n",
       "\n",
       "   98166  98168  98177  98178  98188  98198  98199  \n",
       "0      0      0      0      1      0      0      0  \n",
       "1      0      0      0      0      0      0      0  \n",
       "2      0      0      0      0      0      0      0  \n",
       "3      0      0      0      0      0      0      0  \n",
       "4      0      0      0      0      0      0      0  \n",
       "\n",
       "[5 rows x 77 columns]"
      ]
     },
     "execution_count": 286,
     "metadata": {},
     "output_type": "execute_result"
    }
   ],
   "source": [
    "kc_m_update7.head()"
   ]
  },
  {
   "cell_type": "code",
   "execution_count": 287,
   "metadata": {},
   "outputs": [],
   "source": [
    "X_kfold = kc_m_update7.drop('price', axis=1)"
   ]
  },
  {
   "cell_type": "code",
   "execution_count": 288,
   "metadata": {},
   "outputs": [],
   "source": [
    "y_kfold = kc_measures['price']"
   ]
  },
  {
   "cell_type": "code",
   "execution_count": 289,
   "metadata": {},
   "outputs": [],
   "source": [
    "linreg = LinearRegression()"
   ]
  },
  {
   "cell_type": "code",
   "execution_count": 290,
   "metadata": {},
   "outputs": [],
   "source": [
    "cv_5_results = np.mean(cross_val_score(linreg, X_kfold, y_kfold, cv=5, scoring=\"neg_mean_squared_error\"))"
   ]
  },
  {
   "cell_type": "code",
   "execution_count": 291,
   "metadata": {},
   "outputs": [],
   "source": [
    "cv_5_results = (cross_val_score(linreg, X_kfold, y_kfold, cv=5))"
   ]
  },
  {
   "cell_type": "code",
   "execution_count": 292,
   "metadata": {},
   "outputs": [
    {
     "data": {
      "text/plain": [
       "array([0.78107021, 0.77763334, 0.78938226, 0.80759529, 0.80230218])"
      ]
     },
     "execution_count": 292,
     "metadata": {},
     "output_type": "execute_result"
    }
   ],
   "source": [
    "cv_5_results"
   ]
  },
  {
   "cell_type": "code",
   "execution_count": 293,
   "metadata": {},
   "outputs": [],
   "source": [
    "cv_10_results = np.mean(cross_val_score(linreg, X_kfold, y_kfold, cv=10, scoring=\"neg_mean_squared_error\"))"
   ]
  },
  {
   "cell_type": "code",
   "execution_count": 294,
   "metadata": {},
   "outputs": [],
   "source": [
    "cv_20_results = np.mean(cross_val_score(linreg, X_kfold, y_kfold, cv=20, scoring=\"neg_mean_squared_error\"))"
   ]
  },
  {
   "cell_type": "code",
   "execution_count": 295,
   "metadata": {},
   "outputs": [
    {
     "name": "stdout",
     "output_type": "stream",
     "text": [
      "0.8896930244478403\n",
      "167472.568637654\n",
      "167260.11379546276\n"
     ]
    }
   ],
   "source": [
    "print(np.mean(np.sqrt(abs(cv_5_results))))\n",
    "print(np.mean(np.sqrt(abs(cv_10_results))))\n",
    "print(np.mean(np.sqrt(abs(cv_20_results))))"
   ]
  },
  {
   "cell_type": "code",
   "execution_count": 296,
   "metadata": {},
   "outputs": [],
   "source": [
    "from IPython.core.interactiveshell import InteractiveShell\n",
    "InteractiveShell.ast_node_interactivity = \"all\""
   ]
  },
  {
   "cell_type": "code",
   "execution_count": 297,
   "metadata": {},
   "outputs": [],
   "source": [
    "pd.set_option('display.max_rows', 500)"
   ]
  },
  {
   "cell_type": "code",
   "execution_count": 298,
   "metadata": {},
   "outputs": [],
   "source": [
    "# kc_measures_kc_housing.drop(['id','date','sqft_above','lat','long'], axis=1).copy()"
   ]
  },
  {
   "cell_type": "code",
   "execution_count": 299,
   "metadata": {},
   "outputs": [
    {
     "data": {
      "text/plain": [
       "dtype('O')"
      ]
     },
     "execution_count": 299,
     "metadata": {},
     "output_type": "execute_result"
    }
   ],
   "source": [
    "kc_housing.date.dtype"
   ]
  },
  {
   "cell_type": "code",
   "execution_count": 300,
   "metadata": {},
   "outputs": [
    {
     "name": "stdout",
     "output_type": "stream",
     "text": [
      "<class 'pandas.core.frame.DataFrame'>\n",
      "RangeIndex: 21597 entries, 0 to 21596\n",
      "Data columns (total 21 columns):\n",
      "id               21597 non-null int64\n",
      "date             21597 non-null object\n",
      "price            21597 non-null float64\n",
      "bedrooms         21597 non-null int64\n",
      "bathrooms        21597 non-null float64\n",
      "sqft_living      21597 non-null int64\n",
      "sqft_lot         21597 non-null int64\n",
      "floors           21597 non-null float64\n",
      "waterfront       19221 non-null float64\n",
      "view             21534 non-null float64\n",
      "condition        21597 non-null int64\n",
      "grade            21597 non-null int64\n",
      "sqft_above       21597 non-null int64\n",
      "sqft_basement    21597 non-null object\n",
      "yr_built         21597 non-null int64\n",
      "yr_renovated     17755 non-null float64\n",
      "zipcode          21597 non-null int64\n",
      "lat              21597 non-null float64\n",
      "long             21597 non-null float64\n",
      "sqft_living15    21597 non-null int64\n",
      "sqft_lot15       21597 non-null int64\n",
      "dtypes: float64(8), int64(11), object(2)\n",
      "memory usage: 3.5+ MB\n"
     ]
    }
   ],
   "source": [
    "kc_housing.info()"
   ]
  },
  {
   "cell_type": "code",
   "execution_count": null,
   "metadata": {},
   "outputs": [],
   "source": []
  }
 ],
 "metadata": {
  "kernelspec": {
   "display_name": "Python 3",
   "language": "python",
   "name": "python3"
  },
  "language_info": {
   "codemirror_mode": {
    "name": "ipython",
    "version": 3
   },
   "file_extension": ".py",
   "mimetype": "text/x-python",
   "name": "python",
   "nbconvert_exporter": "python",
   "pygments_lexer": "ipython3",
   "version": "3.6.5"
  }
 },
 "nbformat": 4,
 "nbformat_minor": 2
}
