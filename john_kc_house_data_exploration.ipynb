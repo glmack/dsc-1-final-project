{
 "cells": [
  {
   "cell_type": "markdown",
   "metadata": {
    "colab_type": "text",
    "id": "jMsTMdCbCZBe"
   },
   "source": [
    "# Interpretable home price predictions\n",
    "### Lee Mackey & John Naujoks"
   ]
  },
  {
   "cell_type": "code",
   "execution_count": 1,
   "metadata": {
    "colab": {},
    "colab_type": "code",
    "id": "RecYD8a4CZBh"
   },
   "outputs": [],
   "source": [
    "# General setup imports\n",
    "import pandas as pd\n",
    "import numpy as np\n",
    "import matplotlib.pyplot as plt\n",
    "import seaborn as sns\n",
    "%matplotlib inline"
   ]
  },
  {
   "cell_type": "code",
   "execution_count": 2,
   "metadata": {
    "colab": {
     "base_uri": "https://localhost:8080/",
     "height": 405
    },
    "colab_type": "code",
    "executionInfo": {
     "elapsed": 794,
     "status": "error",
     "timestamp": 1555567342191,
     "user": {
      "displayName": "John Naujoks",
      "photoUrl": "https://lh6.googleusercontent.com/-jcaUY8S9vlU/AAAAAAAAAAI/AAAAAAAAMFE/unRy6S288Zg/s64/photo.jpg",
      "userId": "09532558195279011286"
     },
     "user_tz": 420
    },
    "id": "C_v3olrVCZBq",
    "outputId": "37c02e52-d999-4ac1-86f7-9818a9d65949"
   },
   "outputs": [],
   "source": [
    "# Regression analysis tools\n",
    "from sklearn import preprocessing\n",
    "from sklearn.model_selection import train_test_split\n",
    "from sklearn.linear_model import LinearRegression\n",
    "from sklearn.metrics import r2_score, mean_squared_error, mean_absolute_error\n",
    "from sklearn.feature_selection import RFE\n",
    "import statsmodels.api as sm\n",
    "from stepwise_selection import stepwise_selection\n",
    "from sklearn.model_selection import cross_val_score"
   ]
  },
  {
   "cell_type": "markdown",
   "metadata": {},
   "source": [
    "### Data Understanding"
   ]
  },
  {
   "cell_type": "code",
   "execution_count": 3,
   "metadata": {
    "colab": {
     "base_uri": "https://localhost:8080/",
     "height": 864
    },
    "colab_type": "code",
    "executionInfo": {
     "elapsed": 299,
     "status": "error",
     "timestamp": 1555567370425,
     "user": {
      "displayName": "John Naujoks",
      "photoUrl": "https://lh6.googleusercontent.com/-jcaUY8S9vlU/AAAAAAAAAAI/AAAAAAAAMFE/unRy6S288Zg/s64/photo.jpg",
      "userId": "09532558195279011286"
     },
     "user_tz": 420
    },
    "id": "R9mWi4t8CZBx",
    "outputId": "fbb04124-1c2a-4864-a6c1-49cb218a3a81"
   },
   "outputs": [
    {
     "data": {
      "text/html": [
       "<div>\n",
       "<style scoped>\n",
       "    .dataframe tbody tr th:only-of-type {\n",
       "        vertical-align: middle;\n",
       "    }\n",
       "\n",
       "    .dataframe tbody tr th {\n",
       "        vertical-align: top;\n",
       "    }\n",
       "\n",
       "    .dataframe thead th {\n",
       "        text-align: right;\n",
       "    }\n",
       "</style>\n",
       "<table border=\"1\" class=\"dataframe\">\n",
       "  <thead>\n",
       "    <tr style=\"text-align: right;\">\n",
       "      <th></th>\n",
       "      <th>id</th>\n",
       "      <th>date</th>\n",
       "      <th>price</th>\n",
       "      <th>bedrooms</th>\n",
       "      <th>bathrooms</th>\n",
       "      <th>sqft_living</th>\n",
       "      <th>sqft_lot</th>\n",
       "      <th>floors</th>\n",
       "      <th>waterfront</th>\n",
       "      <th>view</th>\n",
       "      <th>...</th>\n",
       "      <th>grade</th>\n",
       "      <th>sqft_above</th>\n",
       "      <th>sqft_basement</th>\n",
       "      <th>yr_built</th>\n",
       "      <th>yr_renovated</th>\n",
       "      <th>zipcode</th>\n",
       "      <th>lat</th>\n",
       "      <th>long</th>\n",
       "      <th>sqft_living15</th>\n",
       "      <th>sqft_lot15</th>\n",
       "    </tr>\n",
       "  </thead>\n",
       "  <tbody>\n",
       "    <tr>\n",
       "      <th>0</th>\n",
       "      <td>7129300520</td>\n",
       "      <td>10/13/2014</td>\n",
       "      <td>221900.0</td>\n",
       "      <td>3</td>\n",
       "      <td>1.00</td>\n",
       "      <td>1180</td>\n",
       "      <td>5650</td>\n",
       "      <td>1.0</td>\n",
       "      <td>NaN</td>\n",
       "      <td>0.0</td>\n",
       "      <td>...</td>\n",
       "      <td>7</td>\n",
       "      <td>1180</td>\n",
       "      <td>0.0</td>\n",
       "      <td>1955</td>\n",
       "      <td>0.0</td>\n",
       "      <td>98178</td>\n",
       "      <td>47.5112</td>\n",
       "      <td>-122.257</td>\n",
       "      <td>1340</td>\n",
       "      <td>5650</td>\n",
       "    </tr>\n",
       "    <tr>\n",
       "      <th>1</th>\n",
       "      <td>6414100192</td>\n",
       "      <td>12/9/2014</td>\n",
       "      <td>538000.0</td>\n",
       "      <td>3</td>\n",
       "      <td>2.25</td>\n",
       "      <td>2570</td>\n",
       "      <td>7242</td>\n",
       "      <td>2.0</td>\n",
       "      <td>0.0</td>\n",
       "      <td>0.0</td>\n",
       "      <td>...</td>\n",
       "      <td>7</td>\n",
       "      <td>2170</td>\n",
       "      <td>400.0</td>\n",
       "      <td>1951</td>\n",
       "      <td>1991.0</td>\n",
       "      <td>98125</td>\n",
       "      <td>47.7210</td>\n",
       "      <td>-122.319</td>\n",
       "      <td>1690</td>\n",
       "      <td>7639</td>\n",
       "    </tr>\n",
       "    <tr>\n",
       "      <th>2</th>\n",
       "      <td>5631500400</td>\n",
       "      <td>2/25/2015</td>\n",
       "      <td>180000.0</td>\n",
       "      <td>2</td>\n",
       "      <td>1.00</td>\n",
       "      <td>770</td>\n",
       "      <td>10000</td>\n",
       "      <td>1.0</td>\n",
       "      <td>0.0</td>\n",
       "      <td>0.0</td>\n",
       "      <td>...</td>\n",
       "      <td>6</td>\n",
       "      <td>770</td>\n",
       "      <td>0.0</td>\n",
       "      <td>1933</td>\n",
       "      <td>NaN</td>\n",
       "      <td>98028</td>\n",
       "      <td>47.7379</td>\n",
       "      <td>-122.233</td>\n",
       "      <td>2720</td>\n",
       "      <td>8062</td>\n",
       "    </tr>\n",
       "    <tr>\n",
       "      <th>3</th>\n",
       "      <td>2487200875</td>\n",
       "      <td>12/9/2014</td>\n",
       "      <td>604000.0</td>\n",
       "      <td>4</td>\n",
       "      <td>3.00</td>\n",
       "      <td>1960</td>\n",
       "      <td>5000</td>\n",
       "      <td>1.0</td>\n",
       "      <td>0.0</td>\n",
       "      <td>0.0</td>\n",
       "      <td>...</td>\n",
       "      <td>7</td>\n",
       "      <td>1050</td>\n",
       "      <td>910.0</td>\n",
       "      <td>1965</td>\n",
       "      <td>0.0</td>\n",
       "      <td>98136</td>\n",
       "      <td>47.5208</td>\n",
       "      <td>-122.393</td>\n",
       "      <td>1360</td>\n",
       "      <td>5000</td>\n",
       "    </tr>\n",
       "    <tr>\n",
       "      <th>4</th>\n",
       "      <td>1954400510</td>\n",
       "      <td>2/18/2015</td>\n",
       "      <td>510000.0</td>\n",
       "      <td>3</td>\n",
       "      <td>2.00</td>\n",
       "      <td>1680</td>\n",
       "      <td>8080</td>\n",
       "      <td>1.0</td>\n",
       "      <td>0.0</td>\n",
       "      <td>0.0</td>\n",
       "      <td>...</td>\n",
       "      <td>8</td>\n",
       "      <td>1680</td>\n",
       "      <td>0.0</td>\n",
       "      <td>1987</td>\n",
       "      <td>0.0</td>\n",
       "      <td>98074</td>\n",
       "      <td>47.6168</td>\n",
       "      <td>-122.045</td>\n",
       "      <td>1800</td>\n",
       "      <td>7503</td>\n",
       "    </tr>\n",
       "  </tbody>\n",
       "</table>\n",
       "<p>5 rows × 21 columns</p>\n",
       "</div>"
      ],
      "text/plain": [
       "           id        date     price  bedrooms  bathrooms  sqft_living  \\\n",
       "0  7129300520  10/13/2014  221900.0         3       1.00         1180   \n",
       "1  6414100192   12/9/2014  538000.0         3       2.25         2570   \n",
       "2  5631500400   2/25/2015  180000.0         2       1.00          770   \n",
       "3  2487200875   12/9/2014  604000.0         4       3.00         1960   \n",
       "4  1954400510   2/18/2015  510000.0         3       2.00         1680   \n",
       "\n",
       "   sqft_lot  floors  waterfront  view     ...      grade  sqft_above  \\\n",
       "0      5650     1.0         NaN   0.0     ...          7        1180   \n",
       "1      7242     2.0         0.0   0.0     ...          7        2170   \n",
       "2     10000     1.0         0.0   0.0     ...          6         770   \n",
       "3      5000     1.0         0.0   0.0     ...          7        1050   \n",
       "4      8080     1.0         0.0   0.0     ...          8        1680   \n",
       "\n",
       "   sqft_basement yr_built  yr_renovated  zipcode      lat     long  \\\n",
       "0            0.0     1955           0.0    98178  47.5112 -122.257   \n",
       "1          400.0     1951        1991.0    98125  47.7210 -122.319   \n",
       "2            0.0     1933           NaN    98028  47.7379 -122.233   \n",
       "3          910.0     1965           0.0    98136  47.5208 -122.393   \n",
       "4            0.0     1987           0.0    98074  47.6168 -122.045   \n",
       "\n",
       "   sqft_living15  sqft_lot15  \n",
       "0           1340        5650  \n",
       "1           1690        7639  \n",
       "2           2720        8062  \n",
       "3           1360        5000  \n",
       "4           1800        7503  \n",
       "\n",
       "[5 rows x 21 columns]"
      ]
     },
     "execution_count": 3,
     "metadata": {},
     "output_type": "execute_result"
    }
   ],
   "source": [
    "kc_housing = pd.read_csv('kc_house_data.csv')\n",
    "kc_housing.head()"
   ]
  },
  {
   "cell_type": "code",
   "execution_count": 4,
   "metadata": {
    "colab": {},
    "colab_type": "code",
    "id": "nY4NIzOUCZB5",
    "outputId": "4e8fa2cb-a931-4430-92b3-be70faf59771"
   },
   "outputs": [
    {
     "name": "stdout",
     "output_type": "stream",
     "text": [
      "<class 'pandas.core.frame.DataFrame'>\n",
      "RangeIndex: 21597 entries, 0 to 21596\n",
      "Data columns (total 21 columns):\n",
      "id               21597 non-null int64\n",
      "date             21597 non-null object\n",
      "price            21597 non-null float64\n",
      "bedrooms         21597 non-null int64\n",
      "bathrooms        21597 non-null float64\n",
      "sqft_living      21597 non-null int64\n",
      "sqft_lot         21597 non-null int64\n",
      "floors           21597 non-null float64\n",
      "waterfront       19221 non-null float64\n",
      "view             21534 non-null float64\n",
      "condition        21597 non-null int64\n",
      "grade            21597 non-null int64\n",
      "sqft_above       21597 non-null int64\n",
      "sqft_basement    21597 non-null object\n",
      "yr_built         21597 non-null int64\n",
      "yr_renovated     17755 non-null float64\n",
      "zipcode          21597 non-null int64\n",
      "lat              21597 non-null float64\n",
      "long             21597 non-null float64\n",
      "sqft_living15    21597 non-null int64\n",
      "sqft_lot15       21597 non-null int64\n",
      "dtypes: float64(8), int64(11), object(2)\n",
      "memory usage: 3.5+ MB\n"
     ]
    },
    {
     "data": {
      "text/plain": [
       "(id                  0\n",
       " date                0\n",
       " price               0\n",
       " bedrooms            0\n",
       " bathrooms           0\n",
       " sqft_living         0\n",
       " sqft_lot            0\n",
       " floors              0\n",
       " waterfront       2376\n",
       " view               63\n",
       " condition           0\n",
       " grade               0\n",
       " sqft_above          0\n",
       " sqft_basement       0\n",
       " yr_built            0\n",
       " yr_renovated     3842\n",
       " zipcode             0\n",
       " lat                 0\n",
       " long                0\n",
       " sqft_living15       0\n",
       " sqft_lot15          0\n",
       " dtype: int64, None)"
      ]
     },
     "execution_count": 4,
     "metadata": {},
     "output_type": "execute_result"
    }
   ],
   "source": [
    "# Looking at columns type and if complete, and viewing which columns have null values that need to be addressed.\n",
    "kc_housing.isna().sum(), kc_housing.info()"
   ]
  },
  {
   "cell_type": "code",
   "execution_count": 0,
   "metadata": {
    "colab": {},
    "colab_type": "code",
    "id": "oI5A_KinCZB_",
    "outputId": "17ad9376-c8ea-4301-e893-d60187eea65a"
   },
   "outputs": [
    {
     "data": {
      "image/png": "[encoded data removed]",
      "text/plain": [
       "<Figure size 864x864 with 20 Axes>"
      ]
     },
     "metadata": {
      "needs_background": "light",
      "tags": []
     },
     "output_type": "display_data"
    }
   ],
   "source": [
    "# A general view of the shape of our columns data\n",
    "_ = kc_housing.hist(figsize=(12,12))"
   ]
  },
  {
   "cell_type": "code",
   "execution_count": 0,
   "metadata": {
    "colab": {},
    "colab_type": "code",
    "id": "PleBPfQiCZCF"
   },
   "outputs": [],
   "source": [
    "# A very large (and slow) scatter matrix to look at all the potential relationships."
   ]
  },
  {
   "cell_type": "code",
   "execution_count": 0,
   "metadata": {
    "colab": {},
    "colab_type": "code",
    "id": "KNSe0BdNCZCJ"
   },
   "outputs": [],
   "source": [
    "potential_cols = ['price','bedrooms','bathrooms','sqft_living','sqft_lot','floors',\n",
    "                     'waterfront', 'view','condition','grade','sqft_above','sqft_basement',\n",
    "                     'sqft_living15','sqft_lot15']\n",
    "    \n",
    "_ = pd.plotting.scatter_matrix(kc_housing[potential_cols], figsize=(12,12))"
   ]
  },
  {
   "cell_type": "markdown",
   "metadata": {},
   "source": [
    "*Notes on Results of above section:*\n",
    "   - rectangular data structured as expected upon import\n",
    "   - noted apparent presence of NaNs in 3 columns\n",
    "   - apparent presence of non-normal distribution in target “price” column and some features"
   ]
  },
  {
   "cell_type": "markdown",
   "metadata": {
    "colab_type": "text",
    "id": "hM9niEB2CZCN"
   },
   "source": [
    "### Data Preparation"
   ]
  },
  {
   "cell_type": "markdown",
   "metadata": {
    "colab_type": "text",
    "id": "XtyM5xmTCZCO"
   },
   "source": [
    "Dropping for now:\n",
    "* Id: Does not feel necessary for our exploration and will drop this column\n",
    "* Date: Going to use for some computations, but not do not need the variable on its own.\n",
    "* Sqft_above: With ample other features for our property size, we decided to pass on using the characteristic for the time being as it is so highly correlated to other features that feel can significantly contribute to our model, like sqft_living.\n",
    "* Latitude & Longitude: for location purses, we are going to do some exploring with the ZIP code."
   ]
  },
  {
   "cell_type": "code",
   "execution_count": 53,
   "metadata": {
    "colab": {},
    "colab_type": "code",
    "id": "cAh32QKaCZCQ"
   },
   "outputs": [],
   "source": [
    "kc_measures = kc_housing.drop(['id','date','sqft_above','lat','long'], axis=1).copy()"
   ]
  },
  {
   "cell_type": "markdown",
   "metadata": {
    "colab_type": "text",
    "id": "MHJtvktTCZCq"
   },
   "source": [
    "Cleaning NaN values:\n",
    "* Waterfront: data is both incomplete and appears to be very primarily negative. Since the value is already binary, we are marking all the NaN values negative as to match to majority. Since it is so skewed, we will re-evaluate its utitlity later.\n",
    "* Yr_renovated: To handle missing values, we collapsed this variable into binary for denoting renovation (True), or no value or no listed renovation year (False). Similar to waterfront, the majority did not have this value.\n",
    "* View: The view variable has a couple issues. First, there are some null values in this column.  Since there are only 63 and we have a significant amount of other rows to work with, we dropped these rows.  Second, the value for 'view' seems like a small difference between those with and without views, so it felt more useful to collapse the granuality of number of views to a simple binary for \"viewed\" (True), \"not viewed\"(False)"
   ]
  },
  {
   "cell_type": "code",
   "execution_count": 54,
   "metadata": {
    "colab": {},
    "colab_type": "code",
    "id": "N44g9HtcCZCt"
   },
   "outputs": [],
   "source": [
    "kc_measures['waterfront'] = kc_measures['waterfront'].fillna(0.0)\n",
    "\n",
    "kc_measures['renovated'] = np.where(kc_measures['yr_renovated']>0, 1, 0) \n",
    "kc_measures.drop('yr_renovated', axis=1, inplace=True)\n",
    "\n",
    "kc_measures['view'] = kc_measures['view'].dropna(axis=0)\n",
    "kc_measures['view'] = np.where(kc_measures['view']> 0, 1, 0)"
   ]
  },
  {
   "cell_type": "markdown",
   "metadata": {
    "colab_type": "text",
    "id": "D0jmejmMCZC1"
   },
   "source": [
    "Other data errors:\n",
    "* Sqft_basement: In exploring this column, we found that some were marked with a question mark instead of a value. It appears that this column was a computation from sqft_living. Our decision was to test this variable as a binary value equating to having a basement(True), or no basement listed (False)"
   ]
  },
  {
   "cell_type": "code",
   "execution_count": 55,
   "metadata": {
    "colab": {},
    "colab_type": "code",
    "id": "gQARtekjCZC4"
   },
   "outputs": [],
   "source": [
    "kc_measures['sqft_basement'] = kc_measures['sqft_basement'].str.replace('?', '0.0').astype('float')"
   ]
  },
  {
   "cell_type": "code",
   "execution_count": 56,
   "metadata": {
    "colab": {},
    "colab_type": "code",
    "id": "dtgXmH0VCZDE"
   },
   "outputs": [],
   "source": [
    "kc_measures['basement'] = np.where(kc_measures['sqft_basement'] > 0, 1, 0)\n",
    "kc_measures.drop('sqft_basement', axis=1, inplace=True)"
   ]
  },
  {
   "cell_type": "markdown",
   "metadata": {
    "colab_type": "text",
    "id": "FRhu7iEfCZDO"
   },
   "source": [
    "Working with Zip Codes:\n",
    "* We created dummy variables for each individual ZIP code."
   ]
  },
  {
   "cell_type": "code",
   "execution_count": 57,
   "metadata": {
    "colab": {},
    "colab_type": "code",
    "id": "aSsGXxtqCZDR"
   },
   "outputs": [],
   "source": [
    "df_zipcode_dums = pd.get_dummies(kc_measures['zipcode'])\n",
    "kc_measures_wzip = pd.concat([kc_measures, df_zipcode_dums], axis=1)"
   ]
  },
  {
   "cell_type": "markdown",
   "metadata": {
    "colab_type": "text",
    "id": "4eEa45yWCZDu"
   },
   "source": [
    "Creating a Feature from Year Built:\n",
    "* Creating scalar values for the year value for \"newness\" of yr_built (absolute value of difference from 1899)"
   ]
  },
  {
   "cell_type": "code",
   "execution_count": 58,
   "metadata": {
    "colab": {},
    "colab_type": "code",
    "id": "B-SY_l3HCZD0"
   },
   "outputs": [],
   "source": [
    "kc_measures['yr_built_1899refyr'] = kc_measures['yr_built'].apply(lambda x: abs(1899-x))\n",
    "kc_measures.drop('yr_built', axis=1, inplace=True)"
   ]
  },
  {
   "cell_type": "markdown",
   "metadata": {
    "colab_type": "text",
    "id": "XamcNNi8CZD-"
   },
   "source": [
    "Further notes:\n",
    "* Bedrooms: The data appears complete, though has some heavy outliers on the higher end (one with 33 bedrooms!) which may need to be min-max standardized\n",
    "* Bathrooms: Comporable to bedrooms, may need to be adjusted for outliers, but complete.\n",
    "* Yr_built: To make this column more useful, we are going to convert it into its age in years (subtract current year)\n",
    "* Yr_renovated: data is fairly incomplete, so might want to skip\n",
    "* Sqft Living 15: Based on the graphs, it looks like we might find some helpful relationship\n",
    "\n",
    "Here are the key features we ran our modelling tests on:"
   ]
  },
  {
   "cell_type": "code",
   "execution_count": 61,
   "metadata": {},
   "outputs": [
    {
     "data": {
      "text/plain": [
       "16"
      ]
     },
     "execution_count": 61,
     "metadata": {},
     "output_type": "execute_result"
    }
   ],
   "source": [
    "len(kc_measures.columns)"
   ]
  },
  {
   "cell_type": "code",
   "execution_count": 62,
   "metadata": {
    "colab": {},
    "colab_type": "code",
    "id": "xKqlytBZCZED",
    "outputId": "8b34a2e3-3918-4e6f-e49e-1431bf08369a",
    "scrolled": true
   },
   "outputs": [
    {
     "data": {
      "text/plain": [
       "Index(['price', 'bedrooms', 'bathrooms', 'sqft_living', 'sqft_lot', 'floors',\n",
       "       'waterfront', 'view', 'condition', 'grade', 'zipcode', 'sqft_living15',\n",
       "       'sqft_lot15', 'renovated', 'basement', 'yr_built_1899refyr'],\n",
       "      dtype='object')"
      ]
     },
     "execution_count": 62,
     "metadata": {},
     "output_type": "execute_result"
    }
   ],
   "source": [
    "kc_measures.columns"
   ]
  },
  {
   "cell_type": "markdown",
   "metadata": {
    "colab_type": "text",
    "id": "V-H68k9nCZEl"
   },
   "source": [
    "### Modeling"
   ]
  },
  {
   "cell_type": "markdown",
   "metadata": {
    "colab_type": "text",
    "id": "rnoGT2UXCZEp"
   },
   "source": [
    "Our initial simple linear regression test:\n",
    "* We put price on standard scale just to see the effect and get an RMSE that might be more proportionally readble. "
   ]
  },
  {
   "cell_type": "code",
   "execution_count": 63,
   "metadata": {
    "colab": {},
    "colab_type": "code",
    "id": "zjjy63WTCZEs"
   },
   "outputs": [],
   "source": [
    "# Setting variables\n",
    "X = kc_measures[['sqft_living']]\n",
    "y = np.log(kc_measures[['price']])"
   ]
  },
  {
   "cell_type": "code",
   "execution_count": 64,
   "metadata": {
    "colab": {},
    "colab_type": "code",
    "id": "jD8kcBNGCZE7"
   },
   "outputs": [],
   "source": [
    "# Create train-test split\n",
    "X_train, X_test, y_train, y_test = train_test_split(X, y, test_size=0.2)\n",
    "\n",
    "# Create model\n",
    "linreg = LinearRegression()\n",
    "linreg.fit(X_train, y_train)\n",
    "\n",
    "# Calculate our y hat (how our model performs against the test data held off)\n",
    "y_hat_test = linreg.predict(X_test)"
   ]
  },
  {
   "cell_type": "code",
   "execution_count": 65,
   "metadata": {
    "colab": {},
    "colab_type": "code",
    "id": "1rw3crn6CZFA",
    "outputId": "e9fc35a1-fb20-41f5-a7e6-1f87cc1600ba"
   },
   "outputs": [
    {
     "name": "stdout",
     "output_type": "stream",
     "text": [
      "RMSE: 0.376719107454143\n",
      "R2: 0.4893819218478196\n"
     ]
    }
   ],
   "source": [
    " # See the R Squared score for on our test data\n",
    "r2 = r2_score(y_test, y_hat_test)\n",
    "\n",
    "# See our Squared Mean Error score for data\n",
    "test_mse = mean_squared_error(y_test, y_hat_test)\n",
    "test_rmse = np.sqrt(test_mse)\n",
    "\n",
    "print(f\"RMSE: {test_rmse}\\nR2: {r2}\")"
   ]
  },
  {
   "cell_type": "code",
   "execution_count": 66,
   "metadata": {
    "colab": {},
    "colab_type": "code",
    "id": "xAp32H9YCZFE",
    "outputId": "e07d98c4-0147-40bb-bce1-e8222d5848b1"
   },
   "outputs": [
    {
     "data": {
      "image/png": "[encoded data removed]",
      "text/plain": [
       "<Figure size 432x288 with 1 Axes>"
      ]
     },
     "metadata": {
      "needs_background": "light"
     },
     "output_type": "display_data"
    }
   ],
   "source": [
    "# Plotting\n",
    "fig, ax = plt.subplots()\n",
    "ax.scatter(X_test, y_test,  color='black')\n",
    "ax.plot(X_test, y_hat_test, color='blue', linewidth=3)\n",
    "ax.set_title('Sqft_living v. Price')\n",
    "plt.show()"
   ]
  },
  {
   "cell_type": "markdown",
   "metadata": {},
   "source": [
    "#### Log transformation on Price:\n",
    "For the purposes of our model building, we decided it would be best to use the logged value of our prices for a couple of reasons: \n",
    "1. This form helps normalize our prices, as it is currently very positively skewed (as displayed below).\n",
    "2. The metric we will receive from our modeling function becomes much more readable and coparable in running our analysis as well. In using the model for future interpretation, we would not keep this feature manipulated in this way. "
   ]
  },
  {
   "cell_type": "code",
   "execution_count": 120,
   "metadata": {},
   "outputs": [
    {
     "data": {
      "image/png": "[encoded data removed]",
      "text/plain": [
       "<Figure size 720x576 with 2 Axes>"
      ]
     },
     "metadata": {},
     "output_type": "display_data"
    }
   ],
   "source": [
    "plt.style.use('fivethirtyeight')\n",
    "\n",
    "X = kc_measures.price\n",
    "X_log = np.log(kc_measures.price)\n",
    "X = kc_measures.price\n",
    "\n",
    "fig, ax = plt.subplots(2, 1, figsize=(10,8))\n",
    "fig.tight_layout(h_pad=5)\n",
    "grid = plt.GridSpec(2, 1, hspace=10)\n",
    "\n",
    "ax[0].hist(X, bins=200, alpha=0.4)\n",
    "ax[1].hist(X_log, bins=200, alpha=0.4)\n",
    "ax[0].set_title('Figure 1: target (price column)')\n",
    "ax[1].set_title('Figure 2: log-transformed target (price column)')\n",
    "plt.show()"
   ]
  },
  {
   "cell_type": "markdown",
   "metadata": {
    "colab_type": "text",
    "id": "9ODtUZDuCZFI"
   },
   "source": [
    "#### Notes on results:\n",
    "* On its own, sqft_living does appear to be on the right track of variables to help predict price, based on its scoring and a brief assessment of the visualization.\n",
    "* Based on reviewing our data, we came up with an initial breakdown of looking at the features:\n",
    "    * Structure - bedrooms, bathrooms, floors, condition, grade, renovated, basement, sqft_living, basement\n",
    "    * Lot - sqft_lot, sqft_lot15, sqft_living15, waterfront, view\n",
    "    * Location - zipcode"
   ]
  },
  {
   "cell_type": "markdown",
   "metadata": {
    "colab_type": "text",
    "id": "-vj0N7SjCZFK"
   },
   "source": [
    "####  Creating some multivariate regression models"
   ]
  },
  {
   "cell_type": "markdown",
   "metadata": {
    "colab_type": "text",
    "id": "c56V2clLCZFL"
   },
   "source": [
    "We made a quick function to help do the following for us:\n",
    "1. Seperate out the Y ('price') and converting to log values (just for ease of reading) \n",
    "2. Setting our X (all other dataframe variables)\n",
    "2. Create a train-test split on that data.\n",
    "3. Run the training data through the linear regression function. \n",
    "4. Return a set of useful statistics to review their performance (R-Squared, MSE, RMSE, MAE)"
   ]
  },
  {
   "cell_type": "code",
   "execution_count": 138,
   "metadata": {
    "colab": {},
    "colab_type": "code",
    "id": "Ojwc8pR_CZFL"
   },
   "outputs": [],
   "source": [
    "def lin_regress_summary(df):\n",
    "\n",
    "    y = np.log(df['price'])\n",
    "    X = df.drop(['price'], axis=1)\n",
    "\n",
    "    # Create train-test split\n",
    "    X_train, X_test, y_train, y_test = train_test_split(X, y, test_size=0.2)\n",
    "\n",
    "    # Create model\n",
    "    model = LinearRegression()\n",
    "    model.fit(X_train, y_train)\n",
    "\n",
    "    # Calculate our y hat (how our model performs against the test data held off)\n",
    "    y_hat_test = model.predict(X_test)\n",
    "    y_hat_test\n",
    "\n",
    "    # See the R Squared score\n",
    "    r2 = r2_score(y_test, y_hat_test)\n",
    "    print(f\"the R^2 score is: {r2}\")\n",
    "\n",
    "    # See our Mean Squared Error\n",
    "    test_mse = mean_squared_error(y_test, y_hat_test)\n",
    "    print(f\"the test MSE is: {test_mse}\")\n",
    "\n",
    "    # See our Root Mean Squared Error\n",
    "    test_rmse = np.sqrt(test_mse)\n",
    "    print(f\"the test RMSE is: {test_rmse}\")\n",
    "    \n",
    "    # See our Mean Absolute Error\n",
    "    test_mae = mean_absolute_error(y_test, y_hat_test)\n",
    "    print(f\"the test MAE is: {test_mae}\")\n",
    "    \n",
    "    # Optional OLS test used to look into larger results, but ommitted for space and details:\n",
    "    #model = sm.OLS(y, X)\n",
    "    #results = model.fit()\n",
    "    #print(results.pvalues[results.pvalues > .05])"
   ]
  },
  {
   "cell_type": "markdown",
   "metadata": {
    "colab_type": "text",
    "id": "sbUKtQD9CZFO"
   },
   "source": [
    "#### Testing all variables against price:"
   ]
  },
  {
   "cell_type": "code",
   "execution_count": 68,
   "metadata": {
    "colab": {},
    "colab_type": "code",
    "id": "OnCFhemnCZFP",
    "outputId": "46487a31-432e-4de7-f2d4-5d5ac646a5e6"
   },
   "outputs": [
    {
     "name": "stdout",
     "output_type": "stream",
     "text": [
      "the R^2 score is: 0.6525687770364004\n",
      "the test MSE is: 0.09600223794839624\n",
      "the test RMSE is: 0.3098422791492411\n",
      "the test MAE is: 0.24618887532222117\n"
     ]
    }
   ],
   "source": [
    "lin_regress_summary(kc_measures)"
   ]
  },
  {
   "cell_type": "markdown",
   "metadata": {
    "colab_type": "text",
    "id": "StYAkcu9CZFU"
   },
   "source": [
    "#### Testing all variables WITH all ZIP codes as dummy variables"
   ]
  },
  {
   "cell_type": "code",
   "execution_count": 126,
   "metadata": {
    "colab": {},
    "colab_type": "code",
    "id": "wsT0AQOUCZFW",
    "outputId": "ed547c0a-1b14-4033-b1d2-aec14d08dc4f"
   },
   "outputs": [
    {
     "name": "stdout",
     "output_type": "stream",
     "text": [
      "the R^2 score is: 0.8744858432199363\n",
      "the test MSE is: 0.034887753845075184\n",
      "the test RMSE is: 0.18678263796476155\n",
      "the test MAE is: 0.137869550857789\n",
      "bedrooms      0.182118\n",
      "sqft_lot15    0.414830\n",
      "98011         0.837720\n",
      "98024         0.199795\n",
      "98077         0.153219\n",
      "dtype: float64\n"
     ]
    }
   ],
   "source": [
    "lin_regress_summary(kc_measures_wzip)"
   ]
  },
  {
   "cell_type": "markdown",
   "metadata": {
    "colab_type": "text",
    "id": "iyOWP0giCZFb"
   },
   "source": [
    "Based just on this initial assessment, it appeared that the ZIP codes were a great help to improving our model, both in its representativeness to the data (R^2) and its potential for model prediction (RMSE & MAE).\n",
    "\n",
    "With that knowledge, we began running several iterations of our variables without the ZIP codes to find the strongest ones, and then adding them along with our ZIP code variables.\n",
    "\n",
    "First, a couple models based on that simple seperation of characteristics:"
   ]
  },
  {
   "cell_type": "code",
   "execution_count": 75,
   "metadata": {
    "colab": {},
    "colab_type": "code",
    "id": "t889PsbyCZFc"
   },
   "outputs": [],
   "source": [
    "kc_m_lot = kc_measures[['price','sqft_lot', 'waterfront', 'view',\n",
    "                        'sqft_living15','sqft_lot15', ]]"
   ]
  },
  {
   "cell_type": "code",
   "execution_count": 76,
   "metadata": {
    "colab": {},
    "colab_type": "code",
    "id": "2Ew4ZJn3CZFg",
    "outputId": "d26d26c7-a069-4be2-966b-ab4233ed1db3"
   },
   "outputs": [
    {
     "name": "stdout",
     "output_type": "stream",
     "text": [
      "the R^2 score is: 0.42775823164846993\n",
      "the test MSE is: 0.16153501831670006\n",
      "the test RMSE is: 0.40191419272862217\n",
      "the test MAE is: 0.31838717703976527\n"
     ]
    }
   ],
   "source": [
    "lin_regress_summary(kc_m_lot)"
   ]
  },
  {
   "cell_type": "code",
   "execution_count": 77,
   "metadata": {
    "colab": {},
    "colab_type": "code",
    "id": "anz0m7hnCZFm"
   },
   "outputs": [],
   "source": [
    "kc_m_structure = kc_measures[['price', 'bedrooms', 'bathrooms', 'sqft_living',\n",
    "                              'floors', 'condition', 'grade', 'renovated', 'basement']]"
   ]
  },
  {
   "cell_type": "code",
   "execution_count": 78,
   "metadata": {
    "colab": {},
    "colab_type": "code",
    "id": "59T-w1ePCZFq",
    "outputId": "f627739e-c049-4297-8396-9dc79b93806f"
   },
   "outputs": [
    {
     "name": "stdout",
     "output_type": "stream",
     "text": [
      "the R^2 score is: 0.5974178049448999\n",
      "the test MSE is: 0.11046017326540701\n",
      "the test RMSE is: 0.33235549230516265\n",
      "the test MAE is: 0.26489469991027365\n"
     ]
    }
   ],
   "source": [
    "lin_regress_summary(kc_m_structure)"
   ]
  },
  {
   "cell_type": "markdown",
   "metadata": {
    "colab_type": "text",
    "id": "Emn0KLeSCZFy"
   },
   "source": [
    "Next, we took a quick look at the results of a stepwise selector (function originally found on Learn.co, modified to take in a dataframe, know the 'price' is our key variable, and test the rest):"
   ]
  },
  {
   "cell_type": "code",
   "execution_count": 74,
   "metadata": {
    "colab": {},
    "colab_type": "code",
    "id": "KO2LEOmXCZFz",
    "outputId": "0a08e3f9-0e68-406b-8848-07d79dc6ac2f"
   },
   "outputs": [
    {
     "data": {
      "text/plain": [
       "['waterfront',\n",
       " 'grade',\n",
       " 'sqft_living',\n",
       " 'yr_built_1899refyr',\n",
       " 'view',\n",
       " 'bedrooms',\n",
       " 'bathrooms',\n",
       " 'sqft_lot15',\n",
       " 'condition',\n",
       " 'floors',\n",
       " 'sqft_living15',\n",
       " 'renovated',\n",
       " 'basement']"
      ]
     },
     "execution_count": 74,
     "metadata": {},
     "output_type": "execute_result"
    }
   ],
   "source": [
    "stepwise_selection(kc_measures)"
   ]
  },
  {
   "cell_type": "markdown",
   "metadata": {
    "colab_type": "text",
    "id": "oJPc1EruCZF7"
   },
   "source": [
    "Attempted as well with the ZIP codes variables, but in subsetting were marginally as useful as the complete set."
   ]
  },
  {
   "cell_type": "code",
   "execution_count": 0,
   "metadata": {
    "colab": {},
    "colab_type": "code",
    "id": "QXCm8EMLCZF9"
   },
   "outputs": [],
   "source": [
    "# = pd.concat([kc_measures[['price']], df_zipcode_dums], axis=1)\n",
    "# stepwise_selection(kc_zips_wprice)"
   ]
  },
  {
   "cell_type": "code",
   "execution_count": 81,
   "metadata": {
    "colab": {},
    "colab_type": "code",
    "id": "9rYaUZFfCZGC"
   },
   "outputs": [],
   "source": [
    "kc_m_step_results = kc_measures[['price','bedrooms', 'bathrooms','sqft_living',\n",
    "                                 'floors','waterfront', 'view', 'condition','grade',\n",
    "                                 'sqft_living15', 'sqft_lot15', 'renovated', 'basement',\n",
    "                                 'yr_built_1899refyr']]"
   ]
  },
  {
   "cell_type": "code",
   "execution_count": 82,
   "metadata": {
    "colab": {},
    "colab_type": "code",
    "id": "HqXkZZunCZGE",
    "outputId": "e366dec8-267f-4808-a8b5-2713ccacc122"
   },
   "outputs": [
    {
     "name": "stdout",
     "output_type": "stream",
     "text": [
      "the R^2 score is: 0.6494237166997103\n",
      "the test MSE is: 0.09504936182127859\n",
      "the test RMSE is: 0.30830076519736144\n",
      "the test MAE is: 0.24421102896387353\n"
     ]
    }
   ],
   "source": [
    "lin_regress_summary(kc_m_step_results)"
   ]
  },
  {
   "cell_type": "markdown",
   "metadata": {
    "colab_type": "text",
    "id": "aGVpmSQHCZGA"
   },
   "source": [
    "Based on these results, ran several more tests and tried a number of different configurations:"
   ]
  },
  {
   "cell_type": "code",
   "execution_count": 102,
   "metadata": {
    "colab": {},
    "colab_type": "code",
    "id": "6wKEta8eCZGK"
   },
   "outputs": [],
   "source": [
    "kc_m_var_1 = kc_measures[['price', 'bedrooms', 'bathrooms', 'sqft_living',\n",
    "                            'sqft_lot', 'view', 'condition', 'grade',\n",
    "                            'zipcode', 'sqft_living15','sqft_lot15', 'renovated',\n",
    "                            'basement', 'yr_built_1899refyr']]"
   ]
  },
  {
   "cell_type": "code",
   "execution_count": 103,
   "metadata": {
    "colab": {},
    "colab_type": "code",
    "id": "CyTU9RgOCZGT",
    "outputId": "ee5af5e9-49c5-4cf3-f3bc-825a30bd91b1"
   },
   "outputs": [
    {
     "name": "stdout",
     "output_type": "stream",
     "text": [
      "the R^2 score is: 0.6352776567206075\n",
      "the test MSE is: 0.0985970040607267\n",
      "the test RMSE is: 0.3140015988187428\n",
      "the test MAE is: 0.2513408213571892\n"
     ]
    }
   ],
   "source": [
    "lin_regress_summary(kc_m_var_1)"
   ]
  },
  {
   "cell_type": "code",
   "execution_count": 104,
   "metadata": {
    "colab": {},
    "colab_type": "code",
    "id": "SN-CQXuYCZGZ"
   },
   "outputs": [],
   "source": [
    "kc_m_var_2 = kc_measures[['price', 'bedrooms', 'bathrooms', 'sqft_living',\n",
    "                            'sqft_lot', 'view', 'condition', 'grade',\n",
    "                            'sqft_living15','sqft_lot15',  'basement', 'yr_built_1899refyr']]"
   ]
  },
  {
   "cell_type": "code",
   "execution_count": 105,
   "metadata": {
    "colab": {},
    "colab_type": "code",
    "id": "QlCkehAwCZGc",
    "outputId": "1bd837f1-8a2d-47a8-ebbe-dabd8732add4"
   },
   "outputs": [
    {
     "name": "stdout",
     "output_type": "stream",
     "text": [
      "the R^2 score is: 0.6412407453597535\n",
      "the test MSE is: 0.09816535922754954\n",
      "the test RMSE is: 0.3133135158711631\n",
      "the test MAE is: 0.24946878471902437\n"
     ]
    }
   ],
   "source": [
    "lin_regress_summary(kc_m_var_2)"
   ]
  },
  {
   "cell_type": "code",
   "execution_count": 106,
   "metadata": {
    "colab": {},
    "colab_type": "code",
    "id": "JRSmElKACZGy"
   },
   "outputs": [],
   "source": [
    "kc_m_var_3 = kc_measures[['price', 'bedrooms', 'bathrooms', 'sqft_living',\n",
    "                            'sqft_lot','view', 'condition', 'grade', 'sqft_living15',\n",
    "                               'sqft_lot15','yr_built_1899refyr']]"
   ]
  },
  {
   "cell_type": "code",
   "execution_count": 107,
   "metadata": {
    "colab": {},
    "colab_type": "code",
    "id": "3wPJGChBCZG7",
    "outputId": "f9645954-c7d8-406c-e5d6-a1136dc77824"
   },
   "outputs": [
    {
     "name": "stdout",
     "output_type": "stream",
     "text": [
      "the R^2 score is: 0.6364294199758913\n",
      "the test MSE is: 0.10064904558797583\n",
      "the test RMSE is: 0.3172523374034868\n",
      "the test MAE is: 0.25177234817338684\n"
     ]
    }
   ],
   "source": [
    "lin_regress_summary(kc_m_var_3)"
   ]
  },
  {
   "cell_type": "code",
   "execution_count": 108,
   "metadata": {
    "colab": {},
    "colab_type": "code",
    "id": "Eoy7sEHwCZHA"
   },
   "outputs": [],
   "source": [
    "kc_m_var_4 = kc_measures[['price', 'bedrooms', 'bathrooms', 'sqft_living',\n",
    "                            'sqft_lot', 'view',  'grade', 'sqft_living15',\n",
    "                               'sqft_lot15', 'yr_built_1899refyr']]"
   ]
  },
  {
   "cell_type": "code",
   "execution_count": 109,
   "metadata": {
    "colab": {},
    "colab_type": "code",
    "id": "TUaPVlrRCZHJ",
    "outputId": "d844dd9e-a886-4ef1-f5b7-7fd21c287ad8"
   },
   "outputs": [
    {
     "name": "stdout",
     "output_type": "stream",
     "text": [
      "the R^2 score is: 0.6425196584033637\n",
      "the test MSE is: 0.10242202728536247\n",
      "the test RMSE is: 0.3200344157826818\n",
      "the test MAE is: 0.2547691726872672\n"
     ]
    }
   ],
   "source": [
    "lin_regress_summary(kc_m_var_4)"
   ]
  },
  {
   "cell_type": "code",
   "execution_count": 91,
   "metadata": {
    "colab": {},
    "colab_type": "code",
    "id": "dEk_rlFaCZHY"
   },
   "outputs": [],
   "source": [
    "kc_m_var_5 = kc_measures[['price', 'bedrooms', 'sqft_living','waterfront',\n",
    "                          'view', 'grade', 'yr_built_1899refyr']]\n",
    "\n",
    "\n",
    "# ['price', 'bedrooms', 'bathrooms', 'sqft_living', 'sqft_lot', 'floors',\n",
    "#        'waterfront', 'view', 'condition', 'grade', 'zipcode', 'sqft_living15',\n",
    "#        'sqft_lot15', 'renovated', 'basement', 'yr_built_1899refyr']"
   ]
  },
  {
   "cell_type": "code",
   "execution_count": 92,
   "metadata": {
    "colab": {},
    "colab_type": "code",
    "id": "lbevLwb8CZHc",
    "outputId": "88f573e6-2d75-4aac-f91e-f89e62835e69"
   },
   "outputs": [
    {
     "name": "stdout",
     "output_type": "stream",
     "text": [
      "the R^2 score is: 0.6273629463843206\n",
      "the test MSE is: 0.10179362097293897\n",
      "the test RMSE is: 0.31905112595466417\n",
      "the test MAE is: 0.25391028654532727\n"
     ]
    }
   ],
   "source": [
    "lin_regress_summary(kc_m_var_5)"
   ]
  },
  {
   "cell_type": "markdown",
   "metadata": {
    "colab_type": "text",
    "id": "mwMFn2seCZHi"
   },
   "source": [
    "With keeping in mind some of what we saw from our model tests, we ran further tests including our ZIP code dummy variables combined with our other variable measures:"
   ]
  },
  {
   "cell_type": "code",
   "execution_count": 144,
   "metadata": {
    "colab": {},
    "colab_type": "code",
    "id": "7lpKgh5vCZHj"
   },
   "outputs": [],
   "source": [
    "kc_use_6 = kc_measures[['price','waterfront', 'view', 'bedrooms',\n",
    "                      'sqft_living', 'grade', 'yr_built_1899refyr']]\n",
    "kc_m_var_6 = pd.concat([kc_use_6, df_zipcode_dums], axis=1)"
   ]
  },
  {
   "cell_type": "code",
   "execution_count": 145,
   "metadata": {
    "colab": {},
    "colab_type": "code",
    "id": "JybohZFiCZHr",
    "outputId": "a783c295-af52-47f7-f6ca-6c237f761b83"
   },
   "outputs": [
    {
     "name": "stdout",
     "output_type": "stream",
     "text": [
      "the R^2 score is: 0.8673546901649383\n",
      "the test MSE is: 0.03806028373575627\n",
      "the test RMSE is: 0.1950904501398166\n",
      "the test MAE is: 0.14352267350960252\n"
     ]
    }
   ],
   "source": [
    "lin_regress_summary(kc_m_var_6)"
   ]
  },
  {
   "cell_type": "code",
   "execution_count": 146,
   "metadata": {
    "colab": {},
    "colab_type": "code",
    "id": "zmhw-f_TCZHz"
   },
   "outputs": [],
   "source": [
    "kc_use_7 = kc_measures[['price','sqft_living','bedrooms','bathrooms', 'grade', 'sqft_lot']]\n",
    "kc_m_var_7 = pd.concat([kc_use_7, df_zipcode_dums], axis=1)"
   ]
  },
  {
   "cell_type": "code",
   "execution_count": 147,
   "metadata": {
    "colab": {},
    "colab_type": "code",
    "id": "1bYhpsUmCZH2",
    "outputId": "e077e666-a368-40a7-ac8e-85b9de901133"
   },
   "outputs": [
    {
     "name": "stdout",
     "output_type": "stream",
     "text": [
      "the R^2 score is: 0.8496632909076341\n",
      "the test MSE is: 0.044469363612703705\n",
      "the test RMSE is: 0.21087760339283\n",
      "the test MAE is: 0.1515452176494654\n"
     ]
    }
   ],
   "source": [
    "lin_regress_summary(kc_m_var_7)"
   ]
  },
  {
   "cell_type": "markdown",
   "metadata": {
    "colab_type": "text",
    "id": "zbYgXdeuCZH6"
   },
   "source": [
    "#### Notes of results:\n",
    "\n",
    "Based on all our variations, it appears that our model for \"kc_m_var_6\" has the best potential.  From here, we will further check and test our model.\n",
    "\n"
   ]
  },
  {
   "cell_type": "markdown",
   "metadata": {
    "colab_type": "text",
    "id": "Bt9VlrVfCZH7"
   },
   "source": [
    "### Evaluation"
   ]
  },
  {
   "cell_type": "markdown",
   "metadata": {
    "colab_type": "text",
    "id": "HhPH6Q1bCZH8"
   },
   "source": [
    "We reviewed the ZIP codes as well, and did not find any individual values to be significantly effected by multicollinearity.\n",
    "\n",
    "To check our other selected variables, we are looked for multicollinearity through the table below and explored the heatmap:"
   ]
  },
  {
   "cell_type": "code",
   "execution_count": 150,
   "metadata": {
    "colab": {},
    "colab_type": "code",
    "id": "SUE78XsyCZH9",
    "outputId": "2049c01c-72dc-452c-b10e-bdd51b8c1645"
   },
   "outputs": [
    {
     "data": {
      "text/html": [
       "<div>\n",
       "<style scoped>\n",
       "    .dataframe tbody tr th:only-of-type {\n",
       "        vertical-align: middle;\n",
       "    }\n",
       "\n",
       "    .dataframe tbody tr th {\n",
       "        vertical-align: top;\n",
       "    }\n",
       "\n",
       "    .dataframe thead th {\n",
       "        text-align: right;\n",
       "    }\n",
       "</style>\n",
       "<table border=\"1\" class=\"dataframe\">\n",
       "  <thead>\n",
       "    <tr style=\"text-align: right;\">\n",
       "      <th></th>\n",
       "      <th>price</th>\n",
       "      <th>waterfront</th>\n",
       "      <th>view</th>\n",
       "      <th>bedrooms</th>\n",
       "      <th>sqft_living</th>\n",
       "      <th>grade</th>\n",
       "      <th>yr_built_1899refyr</th>\n",
       "    </tr>\n",
       "  </thead>\n",
       "  <tbody>\n",
       "    <tr>\n",
       "      <th>price</th>\n",
       "      <td>1.000000</td>\n",
       "      <td>0.264306</td>\n",
       "      <td>0.356243</td>\n",
       "      <td>0.308787</td>\n",
       "      <td>0.701917</td>\n",
       "      <td>0.667951</td>\n",
       "      <td>0.053953</td>\n",
       "    </tr>\n",
       "    <tr>\n",
       "      <th>waterfront</th>\n",
       "      <td>0.264306</td>\n",
       "      <td>1.000000</td>\n",
       "      <td>0.248683</td>\n",
       "      <td>-0.002127</td>\n",
       "      <td>0.104637</td>\n",
       "      <td>0.082818</td>\n",
       "      <td>-0.024487</td>\n",
       "    </tr>\n",
       "    <tr>\n",
       "      <th>view</th>\n",
       "      <td>0.356243</td>\n",
       "      <td>0.248683</td>\n",
       "      <td>1.000000</td>\n",
       "      <td>0.079232</td>\n",
       "      <td>0.268465</td>\n",
       "      <td>0.235252</td>\n",
       "      <td>-0.063826</td>\n",
       "    </tr>\n",
       "    <tr>\n",
       "      <th>bedrooms</th>\n",
       "      <td>0.308787</td>\n",
       "      <td>-0.002127</td>\n",
       "      <td>0.079232</td>\n",
       "      <td>1.000000</td>\n",
       "      <td>0.578212</td>\n",
       "      <td>0.356563</td>\n",
       "      <td>0.155670</td>\n",
       "    </tr>\n",
       "    <tr>\n",
       "      <th>sqft_living</th>\n",
       "      <td>0.701917</td>\n",
       "      <td>0.104637</td>\n",
       "      <td>0.268465</td>\n",
       "      <td>0.578212</td>\n",
       "      <td>1.000000</td>\n",
       "      <td>0.762779</td>\n",
       "      <td>0.318152</td>\n",
       "    </tr>\n",
       "    <tr>\n",
       "      <th>grade</th>\n",
       "      <td>0.667951</td>\n",
       "      <td>0.082818</td>\n",
       "      <td>0.235252</td>\n",
       "      <td>0.356563</td>\n",
       "      <td>0.762779</td>\n",
       "      <td>1.000000</td>\n",
       "      <td>0.447865</td>\n",
       "    </tr>\n",
       "    <tr>\n",
       "      <th>yr_built_1899refyr</th>\n",
       "      <td>0.053953</td>\n",
       "      <td>-0.024487</td>\n",
       "      <td>-0.063826</td>\n",
       "      <td>0.155670</td>\n",
       "      <td>0.318152</td>\n",
       "      <td>0.447865</td>\n",
       "      <td>1.000000</td>\n",
       "    </tr>\n",
       "  </tbody>\n",
       "</table>\n",
       "</div>"
      ],
      "text/plain": [
       "                       price  waterfront      view  bedrooms  sqft_living  \\\n",
       "price               1.000000    0.264306  0.356243  0.308787     0.701917   \n",
       "waterfront          0.264306    1.000000  0.248683 -0.002127     0.104637   \n",
       "view                0.356243    0.248683  1.000000  0.079232     0.268465   \n",
       "bedrooms            0.308787   -0.002127  0.079232  1.000000     0.578212   \n",
       "sqft_living         0.701917    0.104637  0.268465  0.578212     1.000000   \n",
       "grade               0.667951    0.082818  0.235252  0.356563     0.762779   \n",
       "yr_built_1899refyr  0.053953   -0.024487 -0.063826  0.155670     0.318152   \n",
       "\n",
       "                       grade  yr_built_1899refyr  \n",
       "price               0.667951            0.053953  \n",
       "waterfront          0.082818           -0.024487  \n",
       "view                0.235252           -0.063826  \n",
       "bedrooms            0.356563            0.155670  \n",
       "sqft_living         0.762779            0.318152  \n",
       "grade               1.000000            0.447865  \n",
       "yr_built_1899refyr  0.447865            1.000000  "
      ]
     },
     "execution_count": 150,
     "metadata": {},
     "output_type": "execute_result"
    }
   ],
   "source": [
    "kc_use_6.corr()"
   ]
  },
  {
   "cell_type": "code",
   "execution_count": 151,
   "metadata": {
    "colab": {},
    "colab_type": "code",
    "id": "Mom4t9lxCZID",
    "outputId": "9b226277-8c44-4f48-b22e-a969251e4401"
   },
   "outputs": [
    {
     "data": {
      "text/plain": [
       "<matplotlib.axes._subplots.AxesSubplot at 0x1c279c16a0>"
      ]
     },
     "execution_count": 151,
     "metadata": {},
     "output_type": "execute_result"
    },
    {
     "data": {
      "image/png": "[encoded data removed]",
      "text/plain": [
       "<Figure size 792x648 with 2 Axes>"
      ]
     },
     "metadata": {},
     "output_type": "display_data"
    }
   ],
   "source": [
    "#Heatmap view of how the variables relate:\n",
    "corr = kc_use_6.corr()\n",
    "\n",
    "mask = np.zeros_like(corr, dtype=np.bool)\n",
    "mask[np.triu_indices_from(mask)] = True\n",
    "\n",
    "f, ax = plt.subplots(figsize=(11, 9))\n",
    "\n",
    "cmap = sns.diverging_palette(220, 10, as_cmap=True)\n",
    "\n",
    "sns.heatmap(corr, mask=mask, cmap=cmap, vmax=.3, center=0,\n",
    "            square=True, linewidths=.5, cbar_kws={\"shrink\": .5})"
   ]
  },
  {
   "cell_type": "code",
   "execution_count": 152,
   "metadata": {
    "colab": {},
    "colab_type": "code",
    "id": "iTjZ7QazCZIQ",
    "outputId": "e0180a19-34e3-46fc-a2eb-15330434290e"
   },
   "outputs": [
    {
     "data": {
      "image/png": "[encoded data removed]",
      "text/plain": [
       "<Figure size 864x360 with 2 Axes>"
      ]
     },
     "metadata": {},
     "output_type": "display_data"
    }
   ],
   "source": [
    "fig, ax = plt.subplots(1,2, figsize=(12,5))\n",
    "\n",
    "ax[0].scatter(kc_use_6['sqft_living'], kc_use_6['price'])\n",
    "ax[0].set_title(\"Sqft_living vs. price\")\n",
    "\n",
    "ax[1].scatter(kc_use_6['grade'], kc_use_6['price'])\n",
    "ax[1].set_title(\"Bedrooms vs. price\")\n",
    "\n",
    "plt.show()"
   ]
  },
  {
   "cell_type": "markdown",
   "metadata": {
    "colab_type": "text",
    "id": "6RALeVv7CZIK"
   },
   "source": [
    "Based on this information, it appears that 'grade' is highly correlated with 'sqft_living', which does intrinsically make sense. To conteract that, we decided to drop that feature from our model.\n",
    "\n",
    "Further, we tried to further look into our potential model features."
   ]
  },
  {
   "cell_type": "code",
   "execution_count": 153,
   "metadata": {
    "colab": {},
    "colab_type": "code",
    "id": "MDhxcUB5CZIL"
   },
   "outputs": [],
   "source": [
    "kc_model = kc_measures[['price','waterfront','view','bedrooms','sqft_living', 'yr_built_1899refyr']].copy()\n",
    "\n",
    "kc_model['bedrooms'] = np.log(kc_model['bedrooms'])\n",
    "\n",
    "kc_model_complete = pd.concat([kc_model,df_zipcode_dums], axis=1)"
   ]
  },
  {
   "cell_type": "markdown",
   "metadata": {},
   "source": [
    "#### Checking Zip Codes \n",
    "In further evaluating the Zip Codes, we found three with p-values greater than .05 and dropped them from our model."
   ]
  },
  {
   "cell_type": "code",
   "execution_count": 154,
   "metadata": {},
   "outputs": [],
   "source": [
    "kc_model_complete.drop([98011, 98024, 98077], axis=1, inplace=True)"
   ]
  },
  {
   "cell_type": "code",
   "execution_count": 155,
   "metadata": {
    "colab": {},
    "colab_type": "code",
    "id": "2So9wSzjCZIW",
    "outputId": "0776a722-6cfc-429b-aede-80a3a3195783"
   },
   "outputs": [
    {
     "name": "stdout",
     "output_type": "stream",
     "text": [
      "the R^2 score is: 0.8401397908038444\n",
      "the test MSE is: 0.04365319539191477\n",
      "the test RMSE is: 0.2089334712101313\n",
      "the test MAE is: 0.15482676117348143\n"
     ]
    }
   ],
   "source": [
    "lin_regress_summary(kc_model_complete)"
   ]
  },
  {
   "cell_type": "markdown",
   "metadata": {},
   "source": [
    "#### Testing K-Folds Cross Validation"
   ]
  },
  {
   "cell_type": "code",
   "execution_count": 167,
   "metadata": {
    "colab": {},
    "colab_type": "code",
    "id": "Xl1EZA05CZIb"
   },
   "outputs": [
    {
     "name": "stdout",
     "output_type": "stream",
     "text": [
      "K-Fold Cross Val 5 RMSE: 0.21029243589209168, MAE: 0.15467800632098078 \n",
      "K-Fold cross val 10 RMSE: 0.2101332877177282, MAE: 0.154555974840417\n",
      "K-Fold cross val 20 RMSE: 0.2098268282129061, MAE: 0.1544271651943945\n"
     ]
    }
   ],
   "source": [
    "# Defines features \n",
    "X = kc_model_complete.drop('price', axis=1)\n",
    "y = np.log(kc_model_complete['price'])\n",
    "\n",
    "# Perform K-Folds\n",
    "cv_results_5_RMSE = np.mean(np.sqrt(abs(cross_val_score(linreg, X, y,\n",
    "                                                        cv=5, scoring=\"neg_mean_squared_error\"))))\n",
    "cv_results_5_MAE = np.mean(abs(cross_val_score(linreg, X, y,\n",
    "                                                cv=5, scoring=\"neg_mean_absolute_error\")))\n",
    "cv_results_10_RMSE = np.mean(np.sqrt(abs(cross_val_score(linreg, X, y,\n",
    "                                                         cv=10, scoring=\"neg_mean_squared_error\"))))\n",
    "cv_results_10_MAE = np.mean(abs(cross_val_score(linreg, X, y,\n",
    "                                                cv=10, scoring=\"neg_mean_absolute_error\")))\n",
    "cv_results_20_RMSE = np.mean(np.sqrt(abs(cross_val_score(linreg, X, y,\n",
    "                                                         cv=20, scoring=\"neg_mean_squared_error\"))))\n",
    "cv_results_20_MAE = np.mean(abs(cross_val_score(linreg, X, y,\n",
    "                                                cv=20, scoring=\"neg_mean_absolute_error\")))\n",
    "\n",
    "print(f\"K-Fold Cross Val 5 RMSE: {cv_results_5_RMSE}, MAE: {cv_results_5_MAE} \")\n",
    "print(f\"K-Fold cross val 10 RMSE: {cv_results_10_RMSE}, MAE: {cv_results_10_MAE}\")\n",
    "print(f\"K-Fold cross val 20 RMSE: {cv_results_20_RMSE}, MAE: {cv_results_20_MAE}\")"
   ]
  },
  {
   "cell_type": "markdown",
   "metadata": {},
   "source": [
    "#### Notes on results:\n",
    "* Our evaluation steps provided some additional considerations and altered some of our models features. Overall, through further validation, our model still appears to be our strongest option to help predict home price in the future."
   ]
  },
  {
   "cell_type": "markdown",
   "metadata": {},
   "source": [
    "### Deployment"
   ]
  },
  {
   "cell_type": "code",
   "execution_count": null,
   "metadata": {},
   "outputs": [],
   "source": [
    "\n",
    "    y = kc_model_complete['price']\n",
    "    X = kc_model_complete.drop(['price'], axis=1)\n",
    "\n",
    "    # Create model\n",
    "    model = LinearRegression()\n",
    "    model.fit(X, y)\n",
    "\n",
    "    # Calculate our y hat (how our model performs against the test data held off)\n",
    "    y_hat_test = model.score()\n",
    "    \n",
    "    print(prediction)\n"
   ]
  },
  {
   "cell_type": "markdown",
   "metadata": {
    "colab_type": "text",
    "id": "PRcZqU_GCZIe"
   },
   "source": [
    "##### Graveyard of Features"
   ]
  },
  {
   "cell_type": "markdown",
   "metadata": {
    "colab_type": "text",
    "id": "SMo9KMFWCZIf"
   },
   "source": [
    "The following are a seleciton of features we drafted, modeled with other variables, and found not a significant enough impact to include in our model."
   ]
  },
  {
   "cell_type": "markdown",
   "metadata": {
    "colab_type": "text",
    "id": "KMTb7ehWCZIg"
   },
   "source": [
    "#### Yard Size: all square footage outside of the living area (Sqft_Living - Sqft_Lot)"
   ]
  },
  {
   "cell_type": "code",
   "execution_count": 0,
   "metadata": {
    "colab": {},
    "colab_type": "code",
    "id": "1UTySpKvCZIg"
   },
   "outputs": [],
   "source": [
    "# kc_measures['yard'] = kc_measures['sqft_living'] - kc_measures['sqft_lot']"
   ]
  },
  {
   "cell_type": "markdown",
   "metadata": {
    "colab_type": "text",
    "id": "mMstdi_XCZIk"
   },
   "source": [
    "#### Seasons: taking the month sold during the year and grouping into four seasons. Tried just months as well, but sales were fairly even by month."
   ]
  },
  {
   "cell_type": "code",
   "execution_count": 0,
   "metadata": {
    "colab": {},
    "colab_type": "code",
    "id": "OhIsilCyCZIl"
   },
   "outputs": [],
   "source": [
    "# kc_mod['month'] = kc_mod['date'].apply(lambda x: x[:2]).str.replace('/','').astype(int)\n",
    "\n",
    "# def quarter(val):\n",
    "#     if val in range(3):\n",
    "#         return '1-3'\n",
    "#     elif val in range(4,7):\n",
    "#         return '4-6'\n",
    "#     elif val in range(7,10):\n",
    "#         return '7-9'\n",
    "#     elif val in range(10,13):\n",
    "#         return '10-12'\n",
    "    \n",
    "# kc_mod['month'] = kc_mod['month'].apply(lambda x: quarter(x))\n",
    "# kc_mod['month'].value_counts()\n",
    "# df_month_dums = pd.get_dummies(kc_mod['month'])\n",
    "# kc_mod = pd.concat([kc_mod, df_month_dums], axis=1)"
   ]
  },
  {
   "cell_type": "markdown",
   "metadata": {
    "colab_type": "text",
    "id": "cc4pLPJBCZIo"
   },
   "source": [
    "#### Distance from Expensive neighborhoods: Based on article found from 2017 with most expensive neighborhoods, create values for distance from those expensive neighborhood centers.  This method we did not finish testing, but feel that some of its subtley may be picked up in ZIP codes "
   ]
  },
  {
   "cell_type": "markdown",
   "metadata": {
    "colab_type": "text",
    "id": "eXS3Q7BwCZIp"
   },
   "source": [
    "<a href=\"https://seattle.curbed.com/2017/10/11/16462132/seattle-cheap-expensive-neighborhoods-buying-home\">Original article<a>"
   ]
  },
  {
   "cell_type": "code",
   "execution_count": 0,
   "metadata": {
    "colab": {},
    "colab_type": "code",
    "id": "BgPN1w1XCZIp"
   },
   "outputs": [],
   "source": [
    "# Test for location close to expensive areas\n",
    "# kc_loc = kc_housing.drop(['id','date','sqft_above'], axis=1).copy()\n",
    "# kc_loc['loc'] = (kc_loc['lat'] + 90) * (180 + kc_loc['long'])\n",
    "# kc_loc.drop(['lat','long'], axis=1, inplace=True)\n",
    "#location = (lat + 90) * 180 + long\n",
    "\n",
    "# downtown = (47.60806 + 90) * (180 + -122.33611)\n",
    "\n",
    "# madrona = (47.613274 + 90) * (180 + -122.28887)\n",
    "# slu = (47.62343 + 90) * (180 + -122.33435)\n",
    "# eastlake = (47.64708 + 90) * ( 180 + -122.32477)\n",
    "# queen_anne = (47.63692 + 90) * (180 + -122.35579)\n",
    "# magnolia = (47.65056 + 90) * (180 + -122.40083)\n",
    "# first_hill = (47.60864 + 90) *(180 + -122.32679)\n",
    "\n",
    "# #location = (lat + 90) * 180 + long\n",
    "\n",
    "# kc_expensive = kc_housing.drop(['id','date','sqft_above'], axis=1).copy()\n",
    "# kc_expensive['loc'] = (kc_measures['lat'] + 90) * (180 + kc_measures['long'])\n",
    "# kc_loc['loc_downtown'] = kc_loc['loc'].apply(lambda x: abs(x - downtown))\n",
    "\n",
    "# kc_expensive['loc_madrona'] = kc_expensive['loc'].apply(lambda x: x - madrona)\n",
    "# kc_expensive['loc_slu'] = kc_expensive['loc'].apply(lambda x: x - slu)\n",
    "# kc_expensive['loc_eastlake'] = kc_expensive['loc'].apply(lambda x: x - eastlake)\n",
    "# kc_expensive['loc_queen_anne'] = kc_expensive['loc'].apply(lambda x: x - queen_anne)\n",
    "# kc_expensive['loc_magnolia'] = kc_expensive['loc'].apply(lambda x: x - magnolia)\n",
    "# kc_expensive['loc_first_hill'] = kc_expensive['loc'].apply(lambda x: x - first_hill)"
   ]
  },
  {
   "cell_type": "markdown",
   "metadata": {},
   "source": [
    "#### In Seattle: Trying a simple binary \"In Seattle\"-> True, \"Not Seattle\"-> False. A slimmer option, but might not provide the subltey of neighborhood variation. In running tests of both this metric and ZIP codes as dummy variables, we found Zip code dummies to more positively effect the metrics we were monitoring (R-Squared & RMSE), so we went with the dummy variables.  Below shows the process used for the \"In Seattle\" variation."
   ]
  },
  {
   "cell_type": "code",
   "execution_count": 168,
   "metadata": {
    "colab": {},
    "colab_type": "code",
    "id": "mvIUTgR8CZDb"
   },
   "outputs": [],
   "source": [
    "# seattle_zips = [98101, 98102, 98104, 98105, 98108, 98109, 98112, 98113, 98114, 98117, 98103, 98106, 98107,\n",
    "#                 98111, 98115, 98116, 98118, 98119,98121, 98125, 98126, 98132, 98133, 98138, 98139, 98141, \n",
    "#                 98122, 98124, 98127, 98129, 98131, 98134, 98136, 98144, 98145, 98148, 98155, 98160, 98161, \n",
    "#                 98164, 98165, 98168, 98170, 98146, 98154, 98158, 98166, 98174, 98175, 98178, 98190, 98191,\n",
    "#                 98177, 98181, 98185, 98188, 98189, 98194, 98195, 98199,98198]\n",
    "\n",
    "# kc_measures['in_seattle'] = kc_measures['zipcode'].map(lambda x: 1 if x in seattle_zips else 0)\n",
    "# kc_measures.drop('zipcode', axis=1, inplace=True)"
   ]
  }
 ],
 "metadata": {
  "colab": {
   "name": "kc_house_data_exploration.ipynb",
   "provenance": [],
   "version": "0.3.2"
  },
  "kernelspec": {
   "display_name": "Python 3",
   "language": "python",
   "name": "python3"
  },
  "language_info": {
   "codemirror_mode": {
    "name": "ipython",
    "version": 3
   },
   "file_extension": ".py",
   "mimetype": "text/x-python",
   "name": "python",
   "nbconvert_exporter": "python",
   "pygments_lexer": "ipython3",
   "version": "3.6.6"
  }
 },
 "nbformat": 4,
 "nbformat_minor": 1
}
